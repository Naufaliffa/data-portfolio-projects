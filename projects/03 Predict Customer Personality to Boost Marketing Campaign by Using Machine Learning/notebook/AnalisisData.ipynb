{
 "cells": [
  {
   "cell_type": "code",
   "execution_count": 71,
   "id": "2bf3a093",
   "metadata": {},
   "outputs": [],
   "source": [
    "import pandas as pd\n",
    "import numpy as np\n",
    "import warnings\n",
    "warnings.simplefilter(action='ignore', category=FutureWarning)"
   ]
  },
  {
   "cell_type": "code",
   "execution_count": 72,
   "id": "532a8855",
   "metadata": {},
   "outputs": [],
   "source": [
    "# Load the dataset\n",
    "try:\n",
    "    df = pd.read_csv('marketing_campaign_data.csv')\n",
    "except Exception as e:\n",
    "    # If the default separator fails, try with a semicolon\n",
    "    df = pd.read_csv('marketing_campaign_data.csv', sep=';')\n"
   ]
  },
  {
   "cell_type": "code",
   "execution_count": 73,
   "id": "484d0713",
   "metadata": {},
   "outputs": [
    {
     "name": "stdout",
     "output_type": "stream",
     "text": [
      "Data Info:\n",
      "<class 'pandas.core.frame.DataFrame'>\n",
      "RangeIndex: 2240 entries, 0 to 2239\n",
      "Data columns (total 30 columns):\n",
      " #   Column               Non-Null Count  Dtype  \n",
      "---  ------               --------------  -----  \n",
      " 0   Unnamed: 0           2240 non-null   int64  \n",
      " 1   ID                   2240 non-null   int64  \n",
      " 2   Year_Birth           2240 non-null   int64  \n",
      " 3   Education            2240 non-null   object \n",
      " 4   Marital_Status       2240 non-null   object \n",
      " 5   Income               2216 non-null   float64\n",
      " 6   Kidhome              2240 non-null   int64  \n",
      " 7   Teenhome             2240 non-null   int64  \n",
      " 8   Dt_Customer          2240 non-null   object \n",
      " 9   Recency              2240 non-null   int64  \n",
      " 10  MntCoke              2240 non-null   int64  \n",
      " 11  MntFruits            2240 non-null   int64  \n",
      " 12  MntMeatProducts      2240 non-null   int64  \n",
      " 13  MntFishProducts      2240 non-null   int64  \n",
      " 14  MntSweetProducts     2240 non-null   int64  \n",
      " 15  MntGoldProds         2240 non-null   int64  \n",
      " 16  NumDealsPurchases    2240 non-null   int64  \n",
      " 17  NumWebPurchases      2240 non-null   int64  \n",
      " 18  NumCatalogPurchases  2240 non-null   int64  \n",
      " 19  NumStorePurchases    2240 non-null   int64  \n",
      " 20  NumWebVisitsMonth    2240 non-null   int64  \n",
      " 21  AcceptedCmp3         2240 non-null   int64  \n",
      " 22  AcceptedCmp4         2240 non-null   int64  \n",
      " 23  AcceptedCmp5         2240 non-null   int64  \n",
      " 24  AcceptedCmp1         2240 non-null   int64  \n",
      " 25  AcceptedCmp2         2240 non-null   int64  \n",
      " 26  Complain             2240 non-null   int64  \n",
      " 27  Z_CostContact        2240 non-null   int64  \n",
      " 28  Z_Revenue            2240 non-null   int64  \n",
      " 29  Response             2240 non-null   int64  \n",
      "dtypes: float64(1), int64(26), object(3)\n",
      "memory usage: 525.1+ KB\n"
     ]
    }
   ],
   "source": [
    "# Display basic information about the dataset\n",
    "print(\"Data Info:\")\n",
    "df.info()"
   ]
  },
  {
   "cell_type": "code",
   "execution_count": 74,
   "id": "5408d83a",
   "metadata": {},
   "outputs": [
    {
     "name": "stdout",
     "output_type": "stream",
     "text": [
      "First 5 Rows of Data:\n"
     ]
    },
    {
     "data": {
      "application/vnd.microsoft.datawrangler.viewer.v0+json": {
       "columns": [
        {
         "name": "index",
         "rawType": "int64",
         "type": "integer"
        },
        {
         "name": "Unnamed: 0",
         "rawType": "int64",
         "type": "integer"
        },
        {
         "name": "ID",
         "rawType": "int64",
         "type": "integer"
        },
        {
         "name": "Year_Birth",
         "rawType": "int64",
         "type": "integer"
        },
        {
         "name": "Education",
         "rawType": "object",
         "type": "string"
        },
        {
         "name": "Marital_Status",
         "rawType": "object",
         "type": "string"
        },
        {
         "name": "Income",
         "rawType": "float64",
         "type": "float"
        },
        {
         "name": "Kidhome",
         "rawType": "int64",
         "type": "integer"
        },
        {
         "name": "Teenhome",
         "rawType": "int64",
         "type": "integer"
        },
        {
         "name": "Dt_Customer",
         "rawType": "object",
         "type": "string"
        },
        {
         "name": "Recency",
         "rawType": "int64",
         "type": "integer"
        },
        {
         "name": "MntCoke",
         "rawType": "int64",
         "type": "integer"
        },
        {
         "name": "MntFruits",
         "rawType": "int64",
         "type": "integer"
        },
        {
         "name": "MntMeatProducts",
         "rawType": "int64",
         "type": "integer"
        },
        {
         "name": "MntFishProducts",
         "rawType": "int64",
         "type": "integer"
        },
        {
         "name": "MntSweetProducts",
         "rawType": "int64",
         "type": "integer"
        },
        {
         "name": "MntGoldProds",
         "rawType": "int64",
         "type": "integer"
        },
        {
         "name": "NumDealsPurchases",
         "rawType": "int64",
         "type": "integer"
        },
        {
         "name": "NumWebPurchases",
         "rawType": "int64",
         "type": "integer"
        },
        {
         "name": "NumCatalogPurchases",
         "rawType": "int64",
         "type": "integer"
        },
        {
         "name": "NumStorePurchases",
         "rawType": "int64",
         "type": "integer"
        },
        {
         "name": "NumWebVisitsMonth",
         "rawType": "int64",
         "type": "integer"
        },
        {
         "name": "AcceptedCmp3",
         "rawType": "int64",
         "type": "integer"
        },
        {
         "name": "AcceptedCmp4",
         "rawType": "int64",
         "type": "integer"
        },
        {
         "name": "AcceptedCmp5",
         "rawType": "int64",
         "type": "integer"
        },
        {
         "name": "AcceptedCmp1",
         "rawType": "int64",
         "type": "integer"
        },
        {
         "name": "AcceptedCmp2",
         "rawType": "int64",
         "type": "integer"
        },
        {
         "name": "Complain",
         "rawType": "int64",
         "type": "integer"
        },
        {
         "name": "Z_CostContact",
         "rawType": "int64",
         "type": "integer"
        },
        {
         "name": "Z_Revenue",
         "rawType": "int64",
         "type": "integer"
        },
        {
         "name": "Response",
         "rawType": "int64",
         "type": "integer"
        }
       ],
       "ref": "ae0b75d3-80a6-41bc-ac5f-9b1d9543737e",
       "rows": [
        [
         "0",
         "0",
         "5524",
         "1957",
         "S1",
         "Lajang",
         "58138000.0",
         "0",
         "0",
         "04-09-2012",
         "58",
         "635000",
         "88000",
         "546000",
         "172000",
         "88000",
         "88000",
         "3",
         "8",
         "10",
         "4",
         "7",
         "0",
         "0",
         "0",
         "0",
         "0",
         "0",
         "3",
         "11",
         "1"
        ],
        [
         "1",
         "1",
         "2174",
         "1954",
         "S1",
         "Lajang",
         "46344000.0",
         "1",
         "1",
         "08-03-2014",
         "38",
         "11000",
         "1000",
         "6000",
         "2000",
         "1000",
         "6000",
         "2",
         "1",
         "1",
         "2",
         "5",
         "0",
         "0",
         "0",
         "0",
         "0",
         "0",
         "3",
         "11",
         "0"
        ],
        [
         "2",
         "2",
         "4141",
         "1965",
         "S1",
         "Bertunangan",
         "71613000.0",
         "0",
         "0",
         "21-08-2013",
         "26",
         "426000",
         "49000",
         "127000",
         "111000",
         "21000",
         "42000",
         "1",
         "8",
         "2",
         "10",
         "4",
         "0",
         "0",
         "0",
         "0",
         "0",
         "0",
         "3",
         "11",
         "0"
        ],
        [
         "3",
         "3",
         "6182",
         "1984",
         "S1",
         "Bertunangan",
         "26646000.0",
         "1",
         "0",
         "10-02-2014",
         "26",
         "11000",
         "4000",
         "20000",
         "10000",
         "3000",
         "5000",
         "2",
         "2",
         "0",
         "4",
         "6",
         "0",
         "0",
         "0",
         "0",
         "0",
         "0",
         "3",
         "11",
         "0"
        ],
        [
         "4",
         "4",
         "5324",
         "1981",
         "S3",
         "Menikah",
         "58293000.0",
         "1",
         "0",
         "19-01-2014",
         "94",
         "173000",
         "43000",
         "118000",
         "46000",
         "27000",
         "15000",
         "5",
         "5",
         "3",
         "6",
         "5",
         "0",
         "0",
         "0",
         "0",
         "0",
         "0",
         "3",
         "11",
         "0"
        ]
       ],
       "shape": {
        "columns": 30,
        "rows": 5
       }
      },
      "text/html": [
       "<div>\n",
       "<style scoped>\n",
       "    .dataframe tbody tr th:only-of-type {\n",
       "        vertical-align: middle;\n",
       "    }\n",
       "\n",
       "    .dataframe tbody tr th {\n",
       "        vertical-align: top;\n",
       "    }\n",
       "\n",
       "    .dataframe thead th {\n",
       "        text-align: right;\n",
       "    }\n",
       "</style>\n",
       "<table border=\"1\" class=\"dataframe\">\n",
       "  <thead>\n",
       "    <tr style=\"text-align: right;\">\n",
       "      <th></th>\n",
       "      <th>Unnamed: 0</th>\n",
       "      <th>ID</th>\n",
       "      <th>Year_Birth</th>\n",
       "      <th>Education</th>\n",
       "      <th>Marital_Status</th>\n",
       "      <th>Income</th>\n",
       "      <th>Kidhome</th>\n",
       "      <th>Teenhome</th>\n",
       "      <th>Dt_Customer</th>\n",
       "      <th>Recency</th>\n",
       "      <th>...</th>\n",
       "      <th>NumWebVisitsMonth</th>\n",
       "      <th>AcceptedCmp3</th>\n",
       "      <th>AcceptedCmp4</th>\n",
       "      <th>AcceptedCmp5</th>\n",
       "      <th>AcceptedCmp1</th>\n",
       "      <th>AcceptedCmp2</th>\n",
       "      <th>Complain</th>\n",
       "      <th>Z_CostContact</th>\n",
       "      <th>Z_Revenue</th>\n",
       "      <th>Response</th>\n",
       "    </tr>\n",
       "  </thead>\n",
       "  <tbody>\n",
       "    <tr>\n",
       "      <th>0</th>\n",
       "      <td>0</td>\n",
       "      <td>5524</td>\n",
       "      <td>1957</td>\n",
       "      <td>S1</td>\n",
       "      <td>Lajang</td>\n",
       "      <td>58138000.0</td>\n",
       "      <td>0</td>\n",
       "      <td>0</td>\n",
       "      <td>04-09-2012</td>\n",
       "      <td>58</td>\n",
       "      <td>...</td>\n",
       "      <td>7</td>\n",
       "      <td>0</td>\n",
       "      <td>0</td>\n",
       "      <td>0</td>\n",
       "      <td>0</td>\n",
       "      <td>0</td>\n",
       "      <td>0</td>\n",
       "      <td>3</td>\n",
       "      <td>11</td>\n",
       "      <td>1</td>\n",
       "    </tr>\n",
       "    <tr>\n",
       "      <th>1</th>\n",
       "      <td>1</td>\n",
       "      <td>2174</td>\n",
       "      <td>1954</td>\n",
       "      <td>S1</td>\n",
       "      <td>Lajang</td>\n",
       "      <td>46344000.0</td>\n",
       "      <td>1</td>\n",
       "      <td>1</td>\n",
       "      <td>08-03-2014</td>\n",
       "      <td>38</td>\n",
       "      <td>...</td>\n",
       "      <td>5</td>\n",
       "      <td>0</td>\n",
       "      <td>0</td>\n",
       "      <td>0</td>\n",
       "      <td>0</td>\n",
       "      <td>0</td>\n",
       "      <td>0</td>\n",
       "      <td>3</td>\n",
       "      <td>11</td>\n",
       "      <td>0</td>\n",
       "    </tr>\n",
       "    <tr>\n",
       "      <th>2</th>\n",
       "      <td>2</td>\n",
       "      <td>4141</td>\n",
       "      <td>1965</td>\n",
       "      <td>S1</td>\n",
       "      <td>Bertunangan</td>\n",
       "      <td>71613000.0</td>\n",
       "      <td>0</td>\n",
       "      <td>0</td>\n",
       "      <td>21-08-2013</td>\n",
       "      <td>26</td>\n",
       "      <td>...</td>\n",
       "      <td>4</td>\n",
       "      <td>0</td>\n",
       "      <td>0</td>\n",
       "      <td>0</td>\n",
       "      <td>0</td>\n",
       "      <td>0</td>\n",
       "      <td>0</td>\n",
       "      <td>3</td>\n",
       "      <td>11</td>\n",
       "      <td>0</td>\n",
       "    </tr>\n",
       "    <tr>\n",
       "      <th>3</th>\n",
       "      <td>3</td>\n",
       "      <td>6182</td>\n",
       "      <td>1984</td>\n",
       "      <td>S1</td>\n",
       "      <td>Bertunangan</td>\n",
       "      <td>26646000.0</td>\n",
       "      <td>1</td>\n",
       "      <td>0</td>\n",
       "      <td>10-02-2014</td>\n",
       "      <td>26</td>\n",
       "      <td>...</td>\n",
       "      <td>6</td>\n",
       "      <td>0</td>\n",
       "      <td>0</td>\n",
       "      <td>0</td>\n",
       "      <td>0</td>\n",
       "      <td>0</td>\n",
       "      <td>0</td>\n",
       "      <td>3</td>\n",
       "      <td>11</td>\n",
       "      <td>0</td>\n",
       "    </tr>\n",
       "    <tr>\n",
       "      <th>4</th>\n",
       "      <td>4</td>\n",
       "      <td>5324</td>\n",
       "      <td>1981</td>\n",
       "      <td>S3</td>\n",
       "      <td>Menikah</td>\n",
       "      <td>58293000.0</td>\n",
       "      <td>1</td>\n",
       "      <td>0</td>\n",
       "      <td>19-01-2014</td>\n",
       "      <td>94</td>\n",
       "      <td>...</td>\n",
       "      <td>5</td>\n",
       "      <td>0</td>\n",
       "      <td>0</td>\n",
       "      <td>0</td>\n",
       "      <td>0</td>\n",
       "      <td>0</td>\n",
       "      <td>0</td>\n",
       "      <td>3</td>\n",
       "      <td>11</td>\n",
       "      <td>0</td>\n",
       "    </tr>\n",
       "  </tbody>\n",
       "</table>\n",
       "<p>5 rows × 30 columns</p>\n",
       "</div>"
      ],
      "text/plain": [
       "   Unnamed: 0    ID  Year_Birth Education Marital_Status      Income  Kidhome  \\\n",
       "0           0  5524        1957        S1         Lajang  58138000.0        0   \n",
       "1           1  2174        1954        S1         Lajang  46344000.0        1   \n",
       "2           2  4141        1965        S1    Bertunangan  71613000.0        0   \n",
       "3           3  6182        1984        S1    Bertunangan  26646000.0        1   \n",
       "4           4  5324        1981        S3        Menikah  58293000.0        1   \n",
       "\n",
       "   Teenhome Dt_Customer  Recency  ...  NumWebVisitsMonth  AcceptedCmp3  \\\n",
       "0         0  04-09-2012       58  ...                  7             0   \n",
       "1         1  08-03-2014       38  ...                  5             0   \n",
       "2         0  21-08-2013       26  ...                  4             0   \n",
       "3         0  10-02-2014       26  ...                  6             0   \n",
       "4         0  19-01-2014       94  ...                  5             0   \n",
       "\n",
       "   AcceptedCmp4  AcceptedCmp5  AcceptedCmp1  AcceptedCmp2  Complain  \\\n",
       "0             0             0             0             0         0   \n",
       "1             0             0             0             0         0   \n",
       "2             0             0             0             0         0   \n",
       "3             0             0             0             0         0   \n",
       "4             0             0             0             0         0   \n",
       "\n",
       "   Z_CostContact  Z_Revenue  Response  \n",
       "0              3         11         1  \n",
       "1              3         11         0  \n",
       "2              3         11         0  \n",
       "3              3         11         0  \n",
       "4              3         11         0  \n",
       "\n",
       "[5 rows x 30 columns]"
      ]
     },
     "execution_count": 74,
     "metadata": {},
     "output_type": "execute_result"
    }
   ],
   "source": [
    "print(\"First 5 Rows of Data:\")\n",
    "df.head()"
   ]
  },
  {
   "cell_type": "code",
   "execution_count": 75,
   "id": "1b7050ec",
   "metadata": {},
   "outputs": [
    {
     "name": "stdout",
     "output_type": "stream",
     "text": [
      "Missing Values:\n"
     ]
    },
    {
     "data": {
      "application/vnd.microsoft.datawrangler.viewer.v0+json": {
       "columns": [
        {
         "name": "index",
         "rawType": "object",
         "type": "string"
        },
        {
         "name": "0",
         "rawType": "int64",
         "type": "integer"
        }
       ],
       "ref": "9240e511-bba5-4984-be2f-e75d3151ed64",
       "rows": [
        [
         "Unnamed: 0",
         "0"
        ],
        [
         "ID",
         "0"
        ],
        [
         "Year_Birth",
         "0"
        ],
        [
         "Education",
         "0"
        ],
        [
         "Marital_Status",
         "0"
        ],
        [
         "Income",
         "24"
        ],
        [
         "Kidhome",
         "0"
        ],
        [
         "Teenhome",
         "0"
        ],
        [
         "Dt_Customer",
         "0"
        ],
        [
         "Recency",
         "0"
        ],
        [
         "MntCoke",
         "0"
        ],
        [
         "MntFruits",
         "0"
        ],
        [
         "MntMeatProducts",
         "0"
        ],
        [
         "MntFishProducts",
         "0"
        ],
        [
         "MntSweetProducts",
         "0"
        ],
        [
         "MntGoldProds",
         "0"
        ],
        [
         "NumDealsPurchases",
         "0"
        ],
        [
         "NumWebPurchases",
         "0"
        ],
        [
         "NumCatalogPurchases",
         "0"
        ],
        [
         "NumStorePurchases",
         "0"
        ],
        [
         "NumWebVisitsMonth",
         "0"
        ],
        [
         "AcceptedCmp3",
         "0"
        ],
        [
         "AcceptedCmp4",
         "0"
        ],
        [
         "AcceptedCmp5",
         "0"
        ],
        [
         "AcceptedCmp1",
         "0"
        ],
        [
         "AcceptedCmp2",
         "0"
        ],
        [
         "Complain",
         "0"
        ],
        [
         "Z_CostContact",
         "0"
        ],
        [
         "Z_Revenue",
         "0"
        ],
        [
         "Response",
         "0"
        ]
       ],
       "shape": {
        "columns": 1,
        "rows": 30
       }
      },
      "text/plain": [
       "Unnamed: 0              0\n",
       "ID                      0\n",
       "Year_Birth              0\n",
       "Education               0\n",
       "Marital_Status          0\n",
       "Income                 24\n",
       "Kidhome                 0\n",
       "Teenhome                0\n",
       "Dt_Customer             0\n",
       "Recency                 0\n",
       "MntCoke                 0\n",
       "MntFruits               0\n",
       "MntMeatProducts         0\n",
       "MntFishProducts         0\n",
       "MntSweetProducts        0\n",
       "MntGoldProds            0\n",
       "NumDealsPurchases       0\n",
       "NumWebPurchases         0\n",
       "NumCatalogPurchases     0\n",
       "NumStorePurchases       0\n",
       "NumWebVisitsMonth       0\n",
       "AcceptedCmp3            0\n",
       "AcceptedCmp4            0\n",
       "AcceptedCmp5            0\n",
       "AcceptedCmp1            0\n",
       "AcceptedCmp2            0\n",
       "Complain                0\n",
       "Z_CostContact           0\n",
       "Z_Revenue               0\n",
       "Response                0\n",
       "dtype: int64"
      ]
     },
     "execution_count": 75,
     "metadata": {},
     "output_type": "execute_result"
    }
   ],
   "source": [
    "print(\"Missing Values:\")\n",
    "df.isnull().sum()\n"
   ]
  },
  {
   "cell_type": "code",
   "execution_count": 76,
   "id": "a41a6aab",
   "metadata": {},
   "outputs": [
    {
     "name": "stdout",
     "output_type": "stream",
     "text": [
      "Descriptive Statistics:\n"
     ]
    },
    {
     "data": {
      "application/vnd.microsoft.datawrangler.viewer.v0+json": {
       "columns": [
        {
         "name": "index",
         "rawType": "object",
         "type": "string"
        },
        {
         "name": "Unnamed: 0",
         "rawType": "float64",
         "type": "float"
        },
        {
         "name": "ID",
         "rawType": "float64",
         "type": "float"
        },
        {
         "name": "Year_Birth",
         "rawType": "float64",
         "type": "float"
        },
        {
         "name": "Income",
         "rawType": "float64",
         "type": "float"
        },
        {
         "name": "Kidhome",
         "rawType": "float64",
         "type": "float"
        },
        {
         "name": "Teenhome",
         "rawType": "float64",
         "type": "float"
        },
        {
         "name": "Recency",
         "rawType": "float64",
         "type": "float"
        },
        {
         "name": "MntCoke",
         "rawType": "float64",
         "type": "float"
        },
        {
         "name": "MntFruits",
         "rawType": "float64",
         "type": "float"
        },
        {
         "name": "MntMeatProducts",
         "rawType": "float64",
         "type": "float"
        },
        {
         "name": "MntFishProducts",
         "rawType": "float64",
         "type": "float"
        },
        {
         "name": "MntSweetProducts",
         "rawType": "float64",
         "type": "float"
        },
        {
         "name": "MntGoldProds",
         "rawType": "float64",
         "type": "float"
        },
        {
         "name": "NumDealsPurchases",
         "rawType": "float64",
         "type": "float"
        },
        {
         "name": "NumWebPurchases",
         "rawType": "float64",
         "type": "float"
        },
        {
         "name": "NumCatalogPurchases",
         "rawType": "float64",
         "type": "float"
        },
        {
         "name": "NumStorePurchases",
         "rawType": "float64",
         "type": "float"
        },
        {
         "name": "NumWebVisitsMonth",
         "rawType": "float64",
         "type": "float"
        },
        {
         "name": "AcceptedCmp3",
         "rawType": "float64",
         "type": "float"
        },
        {
         "name": "AcceptedCmp4",
         "rawType": "float64",
         "type": "float"
        },
        {
         "name": "AcceptedCmp5",
         "rawType": "float64",
         "type": "float"
        },
        {
         "name": "AcceptedCmp1",
         "rawType": "float64",
         "type": "float"
        },
        {
         "name": "AcceptedCmp2",
         "rawType": "float64",
         "type": "float"
        },
        {
         "name": "Complain",
         "rawType": "float64",
         "type": "float"
        },
        {
         "name": "Z_CostContact",
         "rawType": "float64",
         "type": "float"
        },
        {
         "name": "Z_Revenue",
         "rawType": "float64",
         "type": "float"
        },
        {
         "name": "Response",
         "rawType": "float64",
         "type": "float"
        }
       ],
       "ref": "783b85be-6847-4972-9c2e-adea7e3df06f",
       "rows": [
        [
         "count",
         "2240.0",
         "2240.0",
         "2240.0",
         "2216.0",
         "2240.0",
         "2240.0",
         "2240.0",
         "2240.0",
         "2240.0",
         "2240.0",
         "2240.0",
         "2240.0",
         "2240.0",
         "2240.0",
         "2240.0",
         "2240.0",
         "2240.0",
         "2240.0",
         "2240.0",
         "2240.0",
         "2240.0",
         "2240.0",
         "2240.0",
         "2240.0",
         "2240.0",
         "2240.0",
         "2240.0"
        ],
        [
         "mean",
         "1119.5",
         "5592.159821428571",
         "1968.8058035714287",
         "52247251.35379061",
         "0.44419642857142855",
         "0.50625",
         "49.109375",
         "303935.71428571426",
         "26302.23214285714",
         "166950.0",
         "37525.44642857143",
         "27062.946428571428",
         "44021.875",
         "2.325",
         "4.084821428571429",
         "2.6620535714285714",
         "5.790178571428571",
         "5.316517857142857",
         "0.07276785714285715",
         "0.07455357142857143",
         "0.07276785714285715",
         "0.06428571428571428",
         "0.013392857142857142",
         "0.009375",
         "3.0",
         "11.0",
         "0.14910714285714285"
        ],
        [
         "std",
         "646.7766229541695",
         "3246.6621975643407",
         "11.984069456885829",
         "25173076.660901405",
         "0.5383980977345936",
         "0.5445382307698758",
         "28.962452808378206",
         "336597.3926053717",
         "39773.433764578556",
         "225715.3725117536",
         "54628.979402878074",
         "41280.49848785494",
         "52167.43891499733",
         "1.932237500855979",
         "2.778714147388102",
         "2.9231006555397463",
         "3.2509581456744323",
         "2.426645009547286",
         "0.25981306992189507",
         "0.2627282848535613",
         "0.25981306992189507",
         "0.24531597433401414",
         "0.1149756062554841",
         "0.09639116794449755",
         "0.0",
         "0.0",
         "0.35627358640847917"
        ],
        [
         "min",
         "0.0",
         "0.0",
         "1893.0",
         "1730000.0",
         "0.0",
         "0.0",
         "0.0",
         "0.0",
         "0.0",
         "0.0",
         "0.0",
         "0.0",
         "0.0",
         "0.0",
         "0.0",
         "0.0",
         "0.0",
         "0.0",
         "0.0",
         "0.0",
         "0.0",
         "0.0",
         "0.0",
         "0.0",
         "3.0",
         "11.0",
         "0.0"
        ],
        [
         "25%",
         "559.75",
         "2828.25",
         "1959.0",
         "35303000.0",
         "0.0",
         "0.0",
         "24.0",
         "23750.0",
         "1000.0",
         "16000.0",
         "3000.0",
         "1000.0",
         "9000.0",
         "1.0",
         "2.0",
         "0.0",
         "3.0",
         "3.0",
         "0.0",
         "0.0",
         "0.0",
         "0.0",
         "0.0",
         "0.0",
         "3.0",
         "11.0",
         "0.0"
        ],
        [
         "50%",
         "1119.5",
         "5458.5",
         "1970.0",
         "51381500.0",
         "0.0",
         "0.0",
         "49.0",
         "173500.0",
         "8000.0",
         "67000.0",
         "12000.0",
         "8000.0",
         "24000.0",
         "2.0",
         "4.0",
         "2.0",
         "5.0",
         "6.0",
         "0.0",
         "0.0",
         "0.0",
         "0.0",
         "0.0",
         "0.0",
         "3.0",
         "11.0",
         "0.0"
        ],
        [
         "75%",
         "1679.25",
         "8427.75",
         "1977.0",
         "68522000.0",
         "1.0",
         "1.0",
         "74.0",
         "504250.0",
         "33000.0",
         "232000.0",
         "50000.0",
         "33000.0",
         "56000.0",
         "3.0",
         "6.0",
         "4.0",
         "8.0",
         "7.0",
         "0.0",
         "0.0",
         "0.0",
         "0.0",
         "0.0",
         "0.0",
         "3.0",
         "11.0",
         "0.0"
        ],
        [
         "max",
         "2239.0",
         "11191.0",
         "1996.0",
         "666666000.0",
         "2.0",
         "2.0",
         "99.0",
         "1493000.0",
         "199000.0",
         "1725000.0",
         "259000.0",
         "263000.0",
         "362000.0",
         "15.0",
         "27.0",
         "28.0",
         "13.0",
         "20.0",
         "1.0",
         "1.0",
         "1.0",
         "1.0",
         "1.0",
         "1.0",
         "3.0",
         "11.0",
         "1.0"
        ]
       ],
       "shape": {
        "columns": 27,
        "rows": 8
       }
      },
      "text/html": [
       "<div>\n",
       "<style scoped>\n",
       "    .dataframe tbody tr th:only-of-type {\n",
       "        vertical-align: middle;\n",
       "    }\n",
       "\n",
       "    .dataframe tbody tr th {\n",
       "        vertical-align: top;\n",
       "    }\n",
       "\n",
       "    .dataframe thead th {\n",
       "        text-align: right;\n",
       "    }\n",
       "</style>\n",
       "<table border=\"1\" class=\"dataframe\">\n",
       "  <thead>\n",
       "    <tr style=\"text-align: right;\">\n",
       "      <th></th>\n",
       "      <th>Unnamed: 0</th>\n",
       "      <th>ID</th>\n",
       "      <th>Year_Birth</th>\n",
       "      <th>Income</th>\n",
       "      <th>Kidhome</th>\n",
       "      <th>Teenhome</th>\n",
       "      <th>Recency</th>\n",
       "      <th>MntCoke</th>\n",
       "      <th>MntFruits</th>\n",
       "      <th>MntMeatProducts</th>\n",
       "      <th>...</th>\n",
       "      <th>NumWebVisitsMonth</th>\n",
       "      <th>AcceptedCmp3</th>\n",
       "      <th>AcceptedCmp4</th>\n",
       "      <th>AcceptedCmp5</th>\n",
       "      <th>AcceptedCmp1</th>\n",
       "      <th>AcceptedCmp2</th>\n",
       "      <th>Complain</th>\n",
       "      <th>Z_CostContact</th>\n",
       "      <th>Z_Revenue</th>\n",
       "      <th>Response</th>\n",
       "    </tr>\n",
       "  </thead>\n",
       "  <tbody>\n",
       "    <tr>\n",
       "      <th>count</th>\n",
       "      <td>2240.000000</td>\n",
       "      <td>2240.000000</td>\n",
       "      <td>2240.000000</td>\n",
       "      <td>2.216000e+03</td>\n",
       "      <td>2240.000000</td>\n",
       "      <td>2240.000000</td>\n",
       "      <td>2240.000000</td>\n",
       "      <td>2.240000e+03</td>\n",
       "      <td>2240.000000</td>\n",
       "      <td>2.240000e+03</td>\n",
       "      <td>...</td>\n",
       "      <td>2240.000000</td>\n",
       "      <td>2240.000000</td>\n",
       "      <td>2240.000000</td>\n",
       "      <td>2240.000000</td>\n",
       "      <td>2240.000000</td>\n",
       "      <td>2240.000000</td>\n",
       "      <td>2240.000000</td>\n",
       "      <td>2240.0</td>\n",
       "      <td>2240.0</td>\n",
       "      <td>2240.000000</td>\n",
       "    </tr>\n",
       "    <tr>\n",
       "      <th>mean</th>\n",
       "      <td>1119.500000</td>\n",
       "      <td>5592.159821</td>\n",
       "      <td>1968.805804</td>\n",
       "      <td>5.224725e+07</td>\n",
       "      <td>0.444196</td>\n",
       "      <td>0.506250</td>\n",
       "      <td>49.109375</td>\n",
       "      <td>3.039357e+05</td>\n",
       "      <td>26302.232143</td>\n",
       "      <td>1.669500e+05</td>\n",
       "      <td>...</td>\n",
       "      <td>5.316518</td>\n",
       "      <td>0.072768</td>\n",
       "      <td>0.074554</td>\n",
       "      <td>0.072768</td>\n",
       "      <td>0.064286</td>\n",
       "      <td>0.013393</td>\n",
       "      <td>0.009375</td>\n",
       "      <td>3.0</td>\n",
       "      <td>11.0</td>\n",
       "      <td>0.149107</td>\n",
       "    </tr>\n",
       "    <tr>\n",
       "      <th>std</th>\n",
       "      <td>646.776623</td>\n",
       "      <td>3246.662198</td>\n",
       "      <td>11.984069</td>\n",
       "      <td>2.517308e+07</td>\n",
       "      <td>0.538398</td>\n",
       "      <td>0.544538</td>\n",
       "      <td>28.962453</td>\n",
       "      <td>3.365974e+05</td>\n",
       "      <td>39773.433765</td>\n",
       "      <td>2.257154e+05</td>\n",
       "      <td>...</td>\n",
       "      <td>2.426645</td>\n",
       "      <td>0.259813</td>\n",
       "      <td>0.262728</td>\n",
       "      <td>0.259813</td>\n",
       "      <td>0.245316</td>\n",
       "      <td>0.114976</td>\n",
       "      <td>0.096391</td>\n",
       "      <td>0.0</td>\n",
       "      <td>0.0</td>\n",
       "      <td>0.356274</td>\n",
       "    </tr>\n",
       "    <tr>\n",
       "      <th>min</th>\n",
       "      <td>0.000000</td>\n",
       "      <td>0.000000</td>\n",
       "      <td>1893.000000</td>\n",
       "      <td>1.730000e+06</td>\n",
       "      <td>0.000000</td>\n",
       "      <td>0.000000</td>\n",
       "      <td>0.000000</td>\n",
       "      <td>0.000000e+00</td>\n",
       "      <td>0.000000</td>\n",
       "      <td>0.000000e+00</td>\n",
       "      <td>...</td>\n",
       "      <td>0.000000</td>\n",
       "      <td>0.000000</td>\n",
       "      <td>0.000000</td>\n",
       "      <td>0.000000</td>\n",
       "      <td>0.000000</td>\n",
       "      <td>0.000000</td>\n",
       "      <td>0.000000</td>\n",
       "      <td>3.0</td>\n",
       "      <td>11.0</td>\n",
       "      <td>0.000000</td>\n",
       "    </tr>\n",
       "    <tr>\n",
       "      <th>25%</th>\n",
       "      <td>559.750000</td>\n",
       "      <td>2828.250000</td>\n",
       "      <td>1959.000000</td>\n",
       "      <td>3.530300e+07</td>\n",
       "      <td>0.000000</td>\n",
       "      <td>0.000000</td>\n",
       "      <td>24.000000</td>\n",
       "      <td>2.375000e+04</td>\n",
       "      <td>1000.000000</td>\n",
       "      <td>1.600000e+04</td>\n",
       "      <td>...</td>\n",
       "      <td>3.000000</td>\n",
       "      <td>0.000000</td>\n",
       "      <td>0.000000</td>\n",
       "      <td>0.000000</td>\n",
       "      <td>0.000000</td>\n",
       "      <td>0.000000</td>\n",
       "      <td>0.000000</td>\n",
       "      <td>3.0</td>\n",
       "      <td>11.0</td>\n",
       "      <td>0.000000</td>\n",
       "    </tr>\n",
       "    <tr>\n",
       "      <th>50%</th>\n",
       "      <td>1119.500000</td>\n",
       "      <td>5458.500000</td>\n",
       "      <td>1970.000000</td>\n",
       "      <td>5.138150e+07</td>\n",
       "      <td>0.000000</td>\n",
       "      <td>0.000000</td>\n",
       "      <td>49.000000</td>\n",
       "      <td>1.735000e+05</td>\n",
       "      <td>8000.000000</td>\n",
       "      <td>6.700000e+04</td>\n",
       "      <td>...</td>\n",
       "      <td>6.000000</td>\n",
       "      <td>0.000000</td>\n",
       "      <td>0.000000</td>\n",
       "      <td>0.000000</td>\n",
       "      <td>0.000000</td>\n",
       "      <td>0.000000</td>\n",
       "      <td>0.000000</td>\n",
       "      <td>3.0</td>\n",
       "      <td>11.0</td>\n",
       "      <td>0.000000</td>\n",
       "    </tr>\n",
       "    <tr>\n",
       "      <th>75%</th>\n",
       "      <td>1679.250000</td>\n",
       "      <td>8427.750000</td>\n",
       "      <td>1977.000000</td>\n",
       "      <td>6.852200e+07</td>\n",
       "      <td>1.000000</td>\n",
       "      <td>1.000000</td>\n",
       "      <td>74.000000</td>\n",
       "      <td>5.042500e+05</td>\n",
       "      <td>33000.000000</td>\n",
       "      <td>2.320000e+05</td>\n",
       "      <td>...</td>\n",
       "      <td>7.000000</td>\n",
       "      <td>0.000000</td>\n",
       "      <td>0.000000</td>\n",
       "      <td>0.000000</td>\n",
       "      <td>0.000000</td>\n",
       "      <td>0.000000</td>\n",
       "      <td>0.000000</td>\n",
       "      <td>3.0</td>\n",
       "      <td>11.0</td>\n",
       "      <td>0.000000</td>\n",
       "    </tr>\n",
       "    <tr>\n",
       "      <th>max</th>\n",
       "      <td>2239.000000</td>\n",
       "      <td>11191.000000</td>\n",
       "      <td>1996.000000</td>\n",
       "      <td>6.666660e+08</td>\n",
       "      <td>2.000000</td>\n",
       "      <td>2.000000</td>\n",
       "      <td>99.000000</td>\n",
       "      <td>1.493000e+06</td>\n",
       "      <td>199000.000000</td>\n",
       "      <td>1.725000e+06</td>\n",
       "      <td>...</td>\n",
       "      <td>20.000000</td>\n",
       "      <td>1.000000</td>\n",
       "      <td>1.000000</td>\n",
       "      <td>1.000000</td>\n",
       "      <td>1.000000</td>\n",
       "      <td>1.000000</td>\n",
       "      <td>1.000000</td>\n",
       "      <td>3.0</td>\n",
       "      <td>11.0</td>\n",
       "      <td>1.000000</td>\n",
       "    </tr>\n",
       "  </tbody>\n",
       "</table>\n",
       "<p>8 rows × 27 columns</p>\n",
       "</div>"
      ],
      "text/plain": [
       "        Unnamed: 0            ID   Year_Birth        Income      Kidhome  \\\n",
       "count  2240.000000   2240.000000  2240.000000  2.216000e+03  2240.000000   \n",
       "mean   1119.500000   5592.159821  1968.805804  5.224725e+07     0.444196   \n",
       "std     646.776623   3246.662198    11.984069  2.517308e+07     0.538398   \n",
       "min       0.000000      0.000000  1893.000000  1.730000e+06     0.000000   \n",
       "25%     559.750000   2828.250000  1959.000000  3.530300e+07     0.000000   \n",
       "50%    1119.500000   5458.500000  1970.000000  5.138150e+07     0.000000   \n",
       "75%    1679.250000   8427.750000  1977.000000  6.852200e+07     1.000000   \n",
       "max    2239.000000  11191.000000  1996.000000  6.666660e+08     2.000000   \n",
       "\n",
       "          Teenhome      Recency       MntCoke      MntFruits  MntMeatProducts  \\\n",
       "count  2240.000000  2240.000000  2.240000e+03    2240.000000     2.240000e+03   \n",
       "mean      0.506250    49.109375  3.039357e+05   26302.232143     1.669500e+05   \n",
       "std       0.544538    28.962453  3.365974e+05   39773.433765     2.257154e+05   \n",
       "min       0.000000     0.000000  0.000000e+00       0.000000     0.000000e+00   \n",
       "25%       0.000000    24.000000  2.375000e+04    1000.000000     1.600000e+04   \n",
       "50%       0.000000    49.000000  1.735000e+05    8000.000000     6.700000e+04   \n",
       "75%       1.000000    74.000000  5.042500e+05   33000.000000     2.320000e+05   \n",
       "max       2.000000    99.000000  1.493000e+06  199000.000000     1.725000e+06   \n",
       "\n",
       "       ...  NumWebVisitsMonth  AcceptedCmp3  AcceptedCmp4  AcceptedCmp5  \\\n",
       "count  ...        2240.000000   2240.000000   2240.000000   2240.000000   \n",
       "mean   ...           5.316518      0.072768      0.074554      0.072768   \n",
       "std    ...           2.426645      0.259813      0.262728      0.259813   \n",
       "min    ...           0.000000      0.000000      0.000000      0.000000   \n",
       "25%    ...           3.000000      0.000000      0.000000      0.000000   \n",
       "50%    ...           6.000000      0.000000      0.000000      0.000000   \n",
       "75%    ...           7.000000      0.000000      0.000000      0.000000   \n",
       "max    ...          20.000000      1.000000      1.000000      1.000000   \n",
       "\n",
       "       AcceptedCmp1  AcceptedCmp2     Complain  Z_CostContact  Z_Revenue  \\\n",
       "count   2240.000000   2240.000000  2240.000000         2240.0     2240.0   \n",
       "mean       0.064286      0.013393     0.009375            3.0       11.0   \n",
       "std        0.245316      0.114976     0.096391            0.0        0.0   \n",
       "min        0.000000      0.000000     0.000000            3.0       11.0   \n",
       "25%        0.000000      0.000000     0.000000            3.0       11.0   \n",
       "50%        0.000000      0.000000     0.000000            3.0       11.0   \n",
       "75%        0.000000      0.000000     0.000000            3.0       11.0   \n",
       "max        1.000000      1.000000     1.000000            3.0       11.0   \n",
       "\n",
       "          Response  \n",
       "count  2240.000000  \n",
       "mean      0.149107  \n",
       "std       0.356274  \n",
       "min       0.000000  \n",
       "25%       0.000000  \n",
       "50%       0.000000  \n",
       "75%       0.000000  \n",
       "max       1.000000  \n",
       "\n",
       "[8 rows x 27 columns]"
      ]
     },
     "execution_count": 76,
     "metadata": {},
     "output_type": "execute_result"
    }
   ],
   "source": [
    "print(\"Descriptive Statistics:\")\n",
    "df.describe()"
   ]
  },
  {
   "cell_type": "markdown",
   "id": "7faa576a",
   "metadata": {},
   "source": [
    "### Hasil & Interpretasi Awal: Apa yang Kita Temukan?\n",
    "\n",
    "Setelah \"mengintip\" data untuk pertama kalinya, berikut adalah beberapa hal penting yang langsung terlihat:\n",
    "\n",
    "#### **Struktur Data & Kualitasnya**\n",
    "\n",
    "Dataset kita mencakup **2.240 pelanggan** dengan **30 kolom informasi**—mulai dari demografi (umur, pendidikan, status), kebiasaan belanja, hingga respons mereka terhadap kampanye marketing.\n",
    "\n",
    "Namun, ada beberapa hal yang perlu dirapikan sebelum kita melangkah lebih jauh:\n",
    "\n",
    "* **Income Gaps:** Ada 24 baris data yang kolom `Income`-nya kosong. Ini perlu kita isi atau tangani agar analisis pendapatan akurat. ✅\n",
    "* **Format Tanggal:** Kolom `Dt_Customer` masih terbaca sebagai teks. Ini akan kita ubah menjadi format tanggal agar bisa dianalisis berdasarkan waktu.\n",
    "* **Kolom \"Sampah\":** Ada beberapa kolom yang tidak relevan (`Unnamed: 0`, `Z_CostContact`, `Z_Revenue`) karena isinya duplikat atau sama untuk semua pelanggan. Kolom-kolom ini akan kita hapus agar analisis lebih bersih.\n",
    "\n",
    "#### **Statistik Awal yang Menarik**\n",
    "\n",
    "* **Profil Pelanggan:** Rata-rata pelanggan kita lahir sekitar tahun **1969** dengan pendapatan tahunan **$52k**. Oh, dan kami menemukan satu data kelahiran tahun 1893 yang sepertinya *outlier* dan perlu diperiksa.\n",
    "* **Respons Kampanye:** Nah, ini yang paling penting. Tingkat respons untuk kampanye terakhir (kolom `Response`) hanya **sekitar 15%**. Angka ini menunjukkan ada banyak ruang untuk perbaikan, dan itulah mengapa analisis ini kita lakukan. 🚀\n",
    "\n",
    "Singkatnya, datanya solid, tapi butuh sedikit pembersihan. Yang terpenting, kita sudah punya *benchmark* performa kampanye yang jelas untuk kita tingkatkan. Mari kita mulai!"
   ]
  },
  {
   "cell_type": "code",
   "execution_count": 77,
   "id": "1b31816f",
   "metadata": {},
   "outputs": [],
   "source": [
    "# Make a copy to keep the original data safe\n",
    "df_cleaned = df.copy()"
   ]
  },
  {
   "cell_type": "code",
   "execution_count": 78,
   "id": "819e60d3",
   "metadata": {},
   "outputs": [],
   "source": [
    "# 1. Drop irrelevant columns\n",
    "df_cleaned = df_cleaned.drop(columns=['Unnamed: 0', 'Z_CostContact', 'Z_Revenue', 'ID'])"
   ]
  },
  {
   "cell_type": "code",
   "execution_count": 79,
   "id": "13361d3d",
   "metadata": {},
   "outputs": [],
   "source": [
    "# 2. Handle missing values in Income\n",
    "income_median = df_cleaned['Income'].median()\n",
    "df_cleaned['Income'].fillna(income_median, inplace=True)"
   ]
  },
  {
   "cell_type": "code",
   "execution_count": 80,
   "id": "70c58c34",
   "metadata": {},
   "outputs": [],
   "source": [
    "# 3. Feature Engineering\n",
    "# Create Age column\n",
    "current_year = pd.to_datetime('today').year\n",
    "df_cleaned['Age'] = current_year - df_cleaned['Year_Birth']\n",
    "\n",
    "# Create Customer_Tenure column\n",
    "df_cleaned['Dt_Customer'] = pd.to_datetime(df_cleaned['Dt_Customer'], dayfirst=True)\n",
    "df_cleaned['Customer_Tenure'] = (pd.to_datetime('today') - df_cleaned['Dt_Customer']).dt.days\n"
   ]
  },
  {
   "cell_type": "code",
   "execution_count": 81,
   "id": "b647e3f3",
   "metadata": {},
   "outputs": [],
   "source": [
    "# 4. Simplify categorical variables\n",
    "# Marital Status\n",
    "df_cleaned['Marital_Status'] = df_cleaned['Marital_Status'].replace({\n",
    "    'Menikah': 'In Relationship',\n",
    "    'Bertunangan': 'In Relationship',\n",
    "    'Lajang': 'Single',\n",
    "    'Cerai': 'Single',\n",
    "    'Janda': 'Single',\n",
    "    'Duda': 'Single',\n",
    "    'Absurd': 'Single',\n",
    "    'YOLO': 'Single'\n",
    "})\n",
    "\n",
    "# Education\n",
    "df_cleaned['Education'] = df_cleaned['Education'].replace({\n",
    "    'S1': 'Undergraduate',\n",
    "    'S2': 'Postgraduate',\n",
    "    'S3': 'Postgraduate',\n",
    "    'SMA': 'High School',\n",
    "    'D3': 'Undergraduate'\n",
    "})\n",
    "\n",
    "# Create a total spending column\n",
    "mnt_cols = [col for col in df_cleaned.columns if 'Mnt' in col]\n",
    "df_cleaned['Total_Spending'] = df_cleaned[mnt_cols].sum(axis=1)\n",
    "\n",
    "# Create a total accepted campaigns column\n",
    "cmp_cols = [col for col in df_cleaned.columns if 'AcceptedCmp' in col]\n",
    "df_cleaned['Total_Campaigns_Accepted'] = df_cleaned[cmp_cols].sum(axis=1)"
   ]
  },
  {
   "cell_type": "code",
   "execution_count": 82,
   "id": "8f76977a",
   "metadata": {},
   "outputs": [
    {
     "name": "stdout",
     "output_type": "stream",
     "text": [
      "Data after cleaning and feature engineering:\n"
     ]
    },
    {
     "data": {
      "application/vnd.microsoft.datawrangler.viewer.v0+json": {
       "columns": [
        {
         "name": "index",
         "rawType": "int64",
         "type": "integer"
        },
        {
         "name": "Year_Birth",
         "rawType": "int64",
         "type": "integer"
        },
        {
         "name": "Education",
         "rawType": "object",
         "type": "string"
        },
        {
         "name": "Marital_Status",
         "rawType": "object",
         "type": "string"
        },
        {
         "name": "Income",
         "rawType": "float64",
         "type": "float"
        },
        {
         "name": "Kidhome",
         "rawType": "int64",
         "type": "integer"
        },
        {
         "name": "Teenhome",
         "rawType": "int64",
         "type": "integer"
        },
        {
         "name": "Dt_Customer",
         "rawType": "datetime64[ns]",
         "type": "datetime"
        },
        {
         "name": "Recency",
         "rawType": "int64",
         "type": "integer"
        },
        {
         "name": "MntCoke",
         "rawType": "int64",
         "type": "integer"
        },
        {
         "name": "MntFruits",
         "rawType": "int64",
         "type": "integer"
        },
        {
         "name": "MntMeatProducts",
         "rawType": "int64",
         "type": "integer"
        },
        {
         "name": "MntFishProducts",
         "rawType": "int64",
         "type": "integer"
        },
        {
         "name": "MntSweetProducts",
         "rawType": "int64",
         "type": "integer"
        },
        {
         "name": "MntGoldProds",
         "rawType": "int64",
         "type": "integer"
        },
        {
         "name": "NumDealsPurchases",
         "rawType": "int64",
         "type": "integer"
        },
        {
         "name": "NumWebPurchases",
         "rawType": "int64",
         "type": "integer"
        },
        {
         "name": "NumCatalogPurchases",
         "rawType": "int64",
         "type": "integer"
        },
        {
         "name": "NumStorePurchases",
         "rawType": "int64",
         "type": "integer"
        },
        {
         "name": "NumWebVisitsMonth",
         "rawType": "int64",
         "type": "integer"
        },
        {
         "name": "AcceptedCmp3",
         "rawType": "int64",
         "type": "integer"
        },
        {
         "name": "AcceptedCmp4",
         "rawType": "int64",
         "type": "integer"
        },
        {
         "name": "AcceptedCmp5",
         "rawType": "int64",
         "type": "integer"
        },
        {
         "name": "AcceptedCmp1",
         "rawType": "int64",
         "type": "integer"
        },
        {
         "name": "AcceptedCmp2",
         "rawType": "int64",
         "type": "integer"
        },
        {
         "name": "Complain",
         "rawType": "int64",
         "type": "integer"
        },
        {
         "name": "Response",
         "rawType": "int64",
         "type": "integer"
        },
        {
         "name": "Age",
         "rawType": "int64",
         "type": "integer"
        },
        {
         "name": "Customer_Tenure",
         "rawType": "int64",
         "type": "integer"
        },
        {
         "name": "Total_Spending",
         "rawType": "int64",
         "type": "integer"
        },
        {
         "name": "Total_Campaigns_Accepted",
         "rawType": "int64",
         "type": "integer"
        }
       ],
       "ref": "bf9a8021-a558-488d-a249-cce915997b3b",
       "rows": [
        [
         "0",
         "1957",
         "Undergraduate",
         "Single",
         "58138000.0",
         "0",
         "0",
         "2012-09-04 00:00:00",
         "58",
         "635000",
         "88000",
         "546000",
         "172000",
         "88000",
         "88000",
         "3",
         "8",
         "10",
         "4",
         "7",
         "0",
         "0",
         "0",
         "0",
         "0",
         "0",
         "1",
         "68",
         "4748",
         "1617000",
         "0"
        ],
        [
         "1",
         "1954",
         "Undergraduate",
         "Single",
         "46344000.0",
         "1",
         "1",
         "2014-03-08 00:00:00",
         "38",
         "11000",
         "1000",
         "6000",
         "2000",
         "1000",
         "6000",
         "2",
         "1",
         "1",
         "2",
         "5",
         "0",
         "0",
         "0",
         "0",
         "0",
         "0",
         "0",
         "71",
         "4198",
         "27000",
         "0"
        ],
        [
         "2",
         "1965",
         "Undergraduate",
         "In Relationship",
         "71613000.0",
         "0",
         "0",
         "2013-08-21 00:00:00",
         "26",
         "426000",
         "49000",
         "127000",
         "111000",
         "21000",
         "42000",
         "1",
         "8",
         "2",
         "10",
         "4",
         "0",
         "0",
         "0",
         "0",
         "0",
         "0",
         "0",
         "60",
         "4397",
         "776000",
         "0"
        ],
        [
         "3",
         "1984",
         "Undergraduate",
         "In Relationship",
         "26646000.0",
         "1",
         "0",
         "2014-02-10 00:00:00",
         "26",
         "11000",
         "4000",
         "20000",
         "10000",
         "3000",
         "5000",
         "2",
         "2",
         "0",
         "4",
         "6",
         "0",
         "0",
         "0",
         "0",
         "0",
         "0",
         "0",
         "41",
         "4224",
         "53000",
         "0"
        ],
        [
         "4",
         "1981",
         "Postgraduate",
         "In Relationship",
         "58293000.0",
         "1",
         "0",
         "2014-01-19 00:00:00",
         "94",
         "173000",
         "43000",
         "118000",
         "46000",
         "27000",
         "15000",
         "5",
         "5",
         "3",
         "6",
         "5",
         "0",
         "0",
         "0",
         "0",
         "0",
         "0",
         "0",
         "44",
         "4246",
         "422000",
         "0"
        ]
       ],
       "shape": {
        "columns": 30,
        "rows": 5
       }
      },
      "text/html": [
       "<div>\n",
       "<style scoped>\n",
       "    .dataframe tbody tr th:only-of-type {\n",
       "        vertical-align: middle;\n",
       "    }\n",
       "\n",
       "    .dataframe tbody tr th {\n",
       "        vertical-align: top;\n",
       "    }\n",
       "\n",
       "    .dataframe thead th {\n",
       "        text-align: right;\n",
       "    }\n",
       "</style>\n",
       "<table border=\"1\" class=\"dataframe\">\n",
       "  <thead>\n",
       "    <tr style=\"text-align: right;\">\n",
       "      <th></th>\n",
       "      <th>Year_Birth</th>\n",
       "      <th>Education</th>\n",
       "      <th>Marital_Status</th>\n",
       "      <th>Income</th>\n",
       "      <th>Kidhome</th>\n",
       "      <th>Teenhome</th>\n",
       "      <th>Dt_Customer</th>\n",
       "      <th>Recency</th>\n",
       "      <th>MntCoke</th>\n",
       "      <th>MntFruits</th>\n",
       "      <th>...</th>\n",
       "      <th>AcceptedCmp4</th>\n",
       "      <th>AcceptedCmp5</th>\n",
       "      <th>AcceptedCmp1</th>\n",
       "      <th>AcceptedCmp2</th>\n",
       "      <th>Complain</th>\n",
       "      <th>Response</th>\n",
       "      <th>Age</th>\n",
       "      <th>Customer_Tenure</th>\n",
       "      <th>Total_Spending</th>\n",
       "      <th>Total_Campaigns_Accepted</th>\n",
       "    </tr>\n",
       "  </thead>\n",
       "  <tbody>\n",
       "    <tr>\n",
       "      <th>0</th>\n",
       "      <td>1957</td>\n",
       "      <td>Undergraduate</td>\n",
       "      <td>Single</td>\n",
       "      <td>58138000.0</td>\n",
       "      <td>0</td>\n",
       "      <td>0</td>\n",
       "      <td>2012-09-04</td>\n",
       "      <td>58</td>\n",
       "      <td>635000</td>\n",
       "      <td>88000</td>\n",
       "      <td>...</td>\n",
       "      <td>0</td>\n",
       "      <td>0</td>\n",
       "      <td>0</td>\n",
       "      <td>0</td>\n",
       "      <td>0</td>\n",
       "      <td>1</td>\n",
       "      <td>68</td>\n",
       "      <td>4748</td>\n",
       "      <td>1617000</td>\n",
       "      <td>0</td>\n",
       "    </tr>\n",
       "    <tr>\n",
       "      <th>1</th>\n",
       "      <td>1954</td>\n",
       "      <td>Undergraduate</td>\n",
       "      <td>Single</td>\n",
       "      <td>46344000.0</td>\n",
       "      <td>1</td>\n",
       "      <td>1</td>\n",
       "      <td>2014-03-08</td>\n",
       "      <td>38</td>\n",
       "      <td>11000</td>\n",
       "      <td>1000</td>\n",
       "      <td>...</td>\n",
       "      <td>0</td>\n",
       "      <td>0</td>\n",
       "      <td>0</td>\n",
       "      <td>0</td>\n",
       "      <td>0</td>\n",
       "      <td>0</td>\n",
       "      <td>71</td>\n",
       "      <td>4198</td>\n",
       "      <td>27000</td>\n",
       "      <td>0</td>\n",
       "    </tr>\n",
       "    <tr>\n",
       "      <th>2</th>\n",
       "      <td>1965</td>\n",
       "      <td>Undergraduate</td>\n",
       "      <td>In Relationship</td>\n",
       "      <td>71613000.0</td>\n",
       "      <td>0</td>\n",
       "      <td>0</td>\n",
       "      <td>2013-08-21</td>\n",
       "      <td>26</td>\n",
       "      <td>426000</td>\n",
       "      <td>49000</td>\n",
       "      <td>...</td>\n",
       "      <td>0</td>\n",
       "      <td>0</td>\n",
       "      <td>0</td>\n",
       "      <td>0</td>\n",
       "      <td>0</td>\n",
       "      <td>0</td>\n",
       "      <td>60</td>\n",
       "      <td>4397</td>\n",
       "      <td>776000</td>\n",
       "      <td>0</td>\n",
       "    </tr>\n",
       "    <tr>\n",
       "      <th>3</th>\n",
       "      <td>1984</td>\n",
       "      <td>Undergraduate</td>\n",
       "      <td>In Relationship</td>\n",
       "      <td>26646000.0</td>\n",
       "      <td>1</td>\n",
       "      <td>0</td>\n",
       "      <td>2014-02-10</td>\n",
       "      <td>26</td>\n",
       "      <td>11000</td>\n",
       "      <td>4000</td>\n",
       "      <td>...</td>\n",
       "      <td>0</td>\n",
       "      <td>0</td>\n",
       "      <td>0</td>\n",
       "      <td>0</td>\n",
       "      <td>0</td>\n",
       "      <td>0</td>\n",
       "      <td>41</td>\n",
       "      <td>4224</td>\n",
       "      <td>53000</td>\n",
       "      <td>0</td>\n",
       "    </tr>\n",
       "    <tr>\n",
       "      <th>4</th>\n",
       "      <td>1981</td>\n",
       "      <td>Postgraduate</td>\n",
       "      <td>In Relationship</td>\n",
       "      <td>58293000.0</td>\n",
       "      <td>1</td>\n",
       "      <td>0</td>\n",
       "      <td>2014-01-19</td>\n",
       "      <td>94</td>\n",
       "      <td>173000</td>\n",
       "      <td>43000</td>\n",
       "      <td>...</td>\n",
       "      <td>0</td>\n",
       "      <td>0</td>\n",
       "      <td>0</td>\n",
       "      <td>0</td>\n",
       "      <td>0</td>\n",
       "      <td>0</td>\n",
       "      <td>44</td>\n",
       "      <td>4246</td>\n",
       "      <td>422000</td>\n",
       "      <td>0</td>\n",
       "    </tr>\n",
       "  </tbody>\n",
       "</table>\n",
       "<p>5 rows × 30 columns</p>\n",
       "</div>"
      ],
      "text/plain": [
       "   Year_Birth      Education   Marital_Status      Income  Kidhome  Teenhome  \\\n",
       "0        1957  Undergraduate           Single  58138000.0        0         0   \n",
       "1        1954  Undergraduate           Single  46344000.0        1         1   \n",
       "2        1965  Undergraduate  In Relationship  71613000.0        0         0   \n",
       "3        1984  Undergraduate  In Relationship  26646000.0        1         0   \n",
       "4        1981   Postgraduate  In Relationship  58293000.0        1         0   \n",
       "\n",
       "  Dt_Customer  Recency  MntCoke  MntFruits  ...  AcceptedCmp4  AcceptedCmp5  \\\n",
       "0  2012-09-04       58   635000      88000  ...             0             0   \n",
       "1  2014-03-08       38    11000       1000  ...             0             0   \n",
       "2  2013-08-21       26   426000      49000  ...             0             0   \n",
       "3  2014-02-10       26    11000       4000  ...             0             0   \n",
       "4  2014-01-19       94   173000      43000  ...             0             0   \n",
       "\n",
       "   AcceptedCmp1  AcceptedCmp2  Complain  Response  Age  Customer_Tenure  \\\n",
       "0             0             0         0         1   68             4748   \n",
       "1             0             0         0         0   71             4198   \n",
       "2             0             0         0         0   60             4397   \n",
       "3             0             0         0         0   41             4224   \n",
       "4             0             0         0         0   44             4246   \n",
       "\n",
       "   Total_Spending  Total_Campaigns_Accepted  \n",
       "0         1617000                         0  \n",
       "1           27000                         0  \n",
       "2          776000                         0  \n",
       "3           53000                         0  \n",
       "4          422000                         0  \n",
       "\n",
       "[5 rows x 30 columns]"
      ]
     },
     "execution_count": 82,
     "metadata": {},
     "output_type": "execute_result"
    }
   ],
   "source": [
    "print(\"Data after cleaning and feature engineering:\")\n",
    "df_cleaned.head()\n"
   ]
  },
  {
   "cell_type": "code",
   "execution_count": 83,
   "id": "1728c342",
   "metadata": {},
   "outputs": [
    {
     "name": "stdout",
     "output_type": "stream",
     "text": [
      "\n",
      "Checking for missing values after cleaning:\n"
     ]
    },
    {
     "data": {
      "text/plain": [
       "np.False_"
      ]
     },
     "execution_count": 83,
     "metadata": {},
     "output_type": "execute_result"
    }
   ],
   "source": [
    "print(\"\\nChecking for missing values after cleaning:\")\n",
    "df_cleaned.isnull().sum().any()"
   ]
  },
  {
   "cell_type": "code",
   "execution_count": 84,
   "id": "c6f6fc3e",
   "metadata": {},
   "outputs": [],
   "source": [
    "# Save the cleaned data to a new CSV file\n",
    "df_cleaned.to_csv('marketing_campaign_data_cleaned.csv', index=False)"
   ]
  },
  {
   "cell_type": "code",
   "execution_count": 85,
   "id": "94fcc07e",
   "metadata": {},
   "outputs": [],
   "source": [
    "# Load the cleaned data if starting a new session\n",
    "df_engineered = pd.read_csv('marketing_campaign_data_cleaned.csv')"
   ]
  },
  {
   "cell_type": "code",
   "execution_count": 86,
   "id": "553d93d6",
   "metadata": {},
   "outputs": [
    {
     "name": "stdout",
     "output_type": "stream",
     "text": [
      "Data with engineered features (first 5 rows):\n",
      "   Age  Total_Children  Total_Spending  Total_Transactions  Conversion_Rate  \\\n",
      "0   68               0         1617000                  25         0.142857   \n",
      "1   71               2           27000                   6         0.000000   \n",
      "2   60               0          776000                  21         0.000000   \n",
      "3   41               1           53000                   8         0.000000   \n",
      "4   44               1          422000                  19         0.000000   \n",
      "\n",
      "   Response  \n",
      "0         1  \n",
      "1         0  \n",
      "2         0  \n",
      "3         0  \n",
      "4         0  \n",
      "\n",
      "Descriptive statistics for new features:\n",
      "               Age  Total_Children  Total_Spending  Total_Transactions  \\\n",
      "count  2240.000000     2240.000000    2.240000e+03         2240.000000   \n",
      "mean     56.194196        0.950446    6.057982e+05           14.862054   \n",
      "std      11.984069        0.751803    6.022493e+05            7.677173   \n",
      "min      29.000000        0.000000    5.000000e+03            0.000000   \n",
      "25%      48.000000        0.000000    6.875000e+04            8.000000   \n",
      "50%      55.000000        1.000000    3.960000e+05           15.000000   \n",
      "75%      66.000000        1.000000    1.045500e+06           21.000000   \n",
      "max     132.000000        3.000000    2.525000e+06           44.000000   \n",
      "\n",
      "       Conversion_Rate     Response  \n",
      "count      2240.000000  2240.000000  \n",
      "mean          0.043471     0.149107  \n",
      "std           0.142662     0.356274  \n",
      "min           0.000000     0.000000  \n",
      "25%           0.000000     0.000000  \n",
      "50%           0.000000     0.000000  \n",
      "75%           0.000000     0.000000  \n",
      "max           0.999999     1.000000  \n"
     ]
    }
   ],
   "source": [
    "# 1. Total Children\n",
    "df_engineered['Total_Children'] = df_engineered['Kidhome'] + df_engineered['Teenhome']\n",
    "\n",
    "# 2. Total Transactions\n",
    "purchase_cols = ['NumDealsPurchases', 'NumWebPurchases', 'NumCatalogPurchases', 'NumStorePurchases']\n",
    "df_engineered['Total_Transactions'] = df_engineered[purchase_cols].sum(axis=1)\n",
    "\n",
    "# 3. Average Transaction Value (handle division by zero)\n",
    "df_engineered['Avg_Transaction_Value'] = df_engineered['Total_Spending'] / (df_engineered['Total_Transactions'] + 1e-6)\n",
    "df_engineered.loc[df_engineered['Total_Transactions'] == 0, 'Avg_Transaction_Value'] = 0\n",
    "\n",
    "# 4. Conversion Rate as per user's definition (handle division by zero)\n",
    "# Conversion Rate = Response / NumWebVisitsMonth\n",
    "# If NumWebVisitsMonth is 0, the rate is 0.\n",
    "df_engineered['Conversion_Rate'] = df_engineered['Response'] / (df_engineered['NumWebVisitsMonth'] + 1e-6)\n",
    "df_engineered.loc[df_engineered['NumWebVisitsMonth'] == 0, 'Conversion_Rate'] = 0\n",
    "\n",
    "\n",
    "# Display the new features in the dataframe, focusing on the engineered Conversion_Rate\n",
    "print(\"Data with engineered features (first 5 rows):\")\n",
    "new_features = ['Age', 'Total_Children', 'Total_Spending', 'Total_Transactions', 'Conversion_Rate', 'Response']\n",
    "print(df_engineered[new_features].head())\n",
    "\n",
    "print(\"\\nDescriptive statistics for new features:\")\n",
    "print(df_engineered[new_features].describe())\n",
    "\n",
    "# Save the latest version of the data\n",
    "df_engineered.to_csv('marketing_campaign_data_engineered.csv', index=False)"
   ]
  },
  {
   "cell_type": "code",
   "execution_count": 87,
   "id": "d0c58cef",
   "metadata": {},
   "outputs": [
    {
     "name": "stdout",
     "output_type": "stream",
     "text": [
      "Data with new engineered features (first 5 rows):\n"
     ]
    },
    {
     "data": {
      "application/vnd.microsoft.datawrangler.viewer.v0+json": {
       "columns": [
        {
         "name": "index",
         "rawType": "int64",
         "type": "integer"
        },
        {
         "name": "Age",
         "rawType": "int64",
         "type": "integer"
        },
        {
         "name": "Total_Children",
         "rawType": "int64",
         "type": "integer"
        },
        {
         "name": "Total_Spending",
         "rawType": "int64",
         "type": "integer"
        },
        {
         "name": "Total_Transactions",
         "rawType": "int64",
         "type": "integer"
        },
        {
         "name": "Conversion_Rate",
         "rawType": "float64",
         "type": "float"
        },
        {
         "name": "Avg_Transaction_Value",
         "rawType": "float64",
         "type": "float"
        },
        {
         "name": "Response",
         "rawType": "int64",
         "type": "integer"
        }
       ],
       "ref": "a3c8decc-863d-4f19-b364-b0235bdb64ac",
       "rows": [
        [
         "0",
         "68",
         "0",
         "1617000",
         "25",
         "0.1428571224489825",
         "64679.9974128001",
         "1"
        ],
        [
         "1",
         "71",
         "2",
         "27000",
         "6",
         "0.0",
         "4499.999250000124",
         "0"
        ],
        [
         "2",
         "60",
         "0",
         "776000",
         "21",
         "0.0",
         "36952.37919274384",
         "0"
        ],
        [
         "3",
         "41",
         "1",
         "53000",
         "8",
         "0.0",
         "6624.999171875104",
         "0"
        ],
        [
         "4",
         "44",
         "1",
         "422000",
         "19",
         "0.0",
         "22210.525146814463",
         "0"
        ]
       ],
       "shape": {
        "columns": 7,
        "rows": 5
       }
      },
      "text/html": [
       "<div>\n",
       "<style scoped>\n",
       "    .dataframe tbody tr th:only-of-type {\n",
       "        vertical-align: middle;\n",
       "    }\n",
       "\n",
       "    .dataframe tbody tr th {\n",
       "        vertical-align: top;\n",
       "    }\n",
       "\n",
       "    .dataframe thead th {\n",
       "        text-align: right;\n",
       "    }\n",
       "</style>\n",
       "<table border=\"1\" class=\"dataframe\">\n",
       "  <thead>\n",
       "    <tr style=\"text-align: right;\">\n",
       "      <th></th>\n",
       "      <th>Age</th>\n",
       "      <th>Total_Children</th>\n",
       "      <th>Total_Spending</th>\n",
       "      <th>Total_Transactions</th>\n",
       "      <th>Conversion_Rate</th>\n",
       "      <th>Avg_Transaction_Value</th>\n",
       "      <th>Response</th>\n",
       "    </tr>\n",
       "  </thead>\n",
       "  <tbody>\n",
       "    <tr>\n",
       "      <th>0</th>\n",
       "      <td>68</td>\n",
       "      <td>0</td>\n",
       "      <td>1617000</td>\n",
       "      <td>25</td>\n",
       "      <td>0.142857</td>\n",
       "      <td>64679.997413</td>\n",
       "      <td>1</td>\n",
       "    </tr>\n",
       "    <tr>\n",
       "      <th>1</th>\n",
       "      <td>71</td>\n",
       "      <td>2</td>\n",
       "      <td>27000</td>\n",
       "      <td>6</td>\n",
       "      <td>0.000000</td>\n",
       "      <td>4499.999250</td>\n",
       "      <td>0</td>\n",
       "    </tr>\n",
       "    <tr>\n",
       "      <th>2</th>\n",
       "      <td>60</td>\n",
       "      <td>0</td>\n",
       "      <td>776000</td>\n",
       "      <td>21</td>\n",
       "      <td>0.000000</td>\n",
       "      <td>36952.379193</td>\n",
       "      <td>0</td>\n",
       "    </tr>\n",
       "    <tr>\n",
       "      <th>3</th>\n",
       "      <td>41</td>\n",
       "      <td>1</td>\n",
       "      <td>53000</td>\n",
       "      <td>8</td>\n",
       "      <td>0.000000</td>\n",
       "      <td>6624.999172</td>\n",
       "      <td>0</td>\n",
       "    </tr>\n",
       "    <tr>\n",
       "      <th>4</th>\n",
       "      <td>44</td>\n",
       "      <td>1</td>\n",
       "      <td>422000</td>\n",
       "      <td>19</td>\n",
       "      <td>0.000000</td>\n",
       "      <td>22210.525147</td>\n",
       "      <td>0</td>\n",
       "    </tr>\n",
       "  </tbody>\n",
       "</table>\n",
       "</div>"
      ],
      "text/plain": [
       "   Age  Total_Children  Total_Spending  Total_Transactions  Conversion_Rate  \\\n",
       "0   68               0         1617000                  25         0.142857   \n",
       "1   71               2           27000                   6         0.000000   \n",
       "2   60               0          776000                  21         0.000000   \n",
       "3   41               1           53000                   8         0.000000   \n",
       "4   44               1          422000                  19         0.000000   \n",
       "\n",
       "   Avg_Transaction_Value  Response  \n",
       "0           64679.997413         1  \n",
       "1            4499.999250         0  \n",
       "2           36952.379193         0  \n",
       "3            6624.999172         0  \n",
       "4           22210.525147         0  "
      ]
     },
     "execution_count": 87,
     "metadata": {},
     "output_type": "execute_result"
    }
   ],
   "source": [
    "# Display the new features in the dataframe\n",
    "print(\"Data with new engineered features (first 5 rows):\")\n",
    "new_features = ['Age', 'Total_Children', 'Total_Spending', 'Total_Transactions', 'Conversion_Rate', 'Avg_Transaction_Value', 'Response']\n",
    "df_engineered[new_features].head()"
   ]
  },
  {
   "cell_type": "code",
   "execution_count": 88,
   "id": "5a03abff",
   "metadata": {},
   "outputs": [
    {
     "name": "stdout",
     "output_type": "stream",
     "text": [
      "\n",
      "Descriptive statistics for new features:\n"
     ]
    },
    {
     "data": {
      "application/vnd.microsoft.datawrangler.viewer.v0+json": {
       "columns": [
        {
         "name": "index",
         "rawType": "object",
         "type": "string"
        },
        {
         "name": "Age",
         "rawType": "float64",
         "type": "float"
        },
        {
         "name": "Total_Children",
         "rawType": "float64",
         "type": "float"
        },
        {
         "name": "Total_Spending",
         "rawType": "float64",
         "type": "float"
        },
        {
         "name": "Total_Transactions",
         "rawType": "float64",
         "type": "float"
        },
        {
         "name": "Conversion_Rate",
         "rawType": "float64",
         "type": "float"
        },
        {
         "name": "Avg_Transaction_Value",
         "rawType": "float64",
         "type": "float"
        },
        {
         "name": "Response",
         "rawType": "float64",
         "type": "float"
        }
       ],
       "ref": "7750b4d0-40de-42e0-8bca-cc61bb33ec0c",
       "rows": [
        [
         "count",
         "2240.0",
         "2240.0",
         "2240.0",
         "2240.0",
         "2240.0",
         "2240.0",
         "2240.0"
        ],
        [
         "mean",
         "56.19419642857143",
         "0.9504464285714286",
         "605798.2142857143",
         "14.862053571428572",
         "0.043471314218220515",
         "33271.456864181164",
         "0.14910714285714285"
        ],
        [
         "std",
         "11.984069456885829",
         "0.7518028216317173",
         "602249.2880109675",
         "7.677172608175904",
         "0.14266163006676705",
         "45014.289456602535",
         "0.35627358640847917"
        ],
        [
         "min",
         "29.0",
         "0.0",
         "5000.0",
         "0.0",
         "0.0",
         "0.0",
         "0.0"
        ],
        [
         "25%",
         "48.0",
         "0.0",
         "68750.0",
         "8.0",
         "0.0",
         "9599.998080000383",
         "0.0"
        ],
        [
         "50%",
         "55.0",
         "1.0",
         "396000.0",
         "15.0",
         "0.0",
         "23348.34453663804",
         "0.0"
        ],
        [
         "75%",
         "66.0",
         "1.0",
         "1045500.0",
         "21.0",
         "0.0",
         "45249.58002929855",
         "0.0"
        ],
        [
         "max",
         "132.0",
         "3.0",
         "2525000.0",
         "44.0",
         "0.9999990000010001",
         "1678998.3210016792",
         "1.0"
        ]
       ],
       "shape": {
        "columns": 7,
        "rows": 8
       }
      },
      "text/html": [
       "<div>\n",
       "<style scoped>\n",
       "    .dataframe tbody tr th:only-of-type {\n",
       "        vertical-align: middle;\n",
       "    }\n",
       "\n",
       "    .dataframe tbody tr th {\n",
       "        vertical-align: top;\n",
       "    }\n",
       "\n",
       "    .dataframe thead th {\n",
       "        text-align: right;\n",
       "    }\n",
       "</style>\n",
       "<table border=\"1\" class=\"dataframe\">\n",
       "  <thead>\n",
       "    <tr style=\"text-align: right;\">\n",
       "      <th></th>\n",
       "      <th>Age</th>\n",
       "      <th>Total_Children</th>\n",
       "      <th>Total_Spending</th>\n",
       "      <th>Total_Transactions</th>\n",
       "      <th>Conversion_Rate</th>\n",
       "      <th>Avg_Transaction_Value</th>\n",
       "      <th>Response</th>\n",
       "    </tr>\n",
       "  </thead>\n",
       "  <tbody>\n",
       "    <tr>\n",
       "      <th>count</th>\n",
       "      <td>2240.000000</td>\n",
       "      <td>2240.000000</td>\n",
       "      <td>2.240000e+03</td>\n",
       "      <td>2240.000000</td>\n",
       "      <td>2240.000000</td>\n",
       "      <td>2.240000e+03</td>\n",
       "      <td>2240.000000</td>\n",
       "    </tr>\n",
       "    <tr>\n",
       "      <th>mean</th>\n",
       "      <td>56.194196</td>\n",
       "      <td>0.950446</td>\n",
       "      <td>6.057982e+05</td>\n",
       "      <td>14.862054</td>\n",
       "      <td>0.043471</td>\n",
       "      <td>3.327146e+04</td>\n",
       "      <td>0.149107</td>\n",
       "    </tr>\n",
       "    <tr>\n",
       "      <th>std</th>\n",
       "      <td>11.984069</td>\n",
       "      <td>0.751803</td>\n",
       "      <td>6.022493e+05</td>\n",
       "      <td>7.677173</td>\n",
       "      <td>0.142662</td>\n",
       "      <td>4.501429e+04</td>\n",
       "      <td>0.356274</td>\n",
       "    </tr>\n",
       "    <tr>\n",
       "      <th>min</th>\n",
       "      <td>29.000000</td>\n",
       "      <td>0.000000</td>\n",
       "      <td>5.000000e+03</td>\n",
       "      <td>0.000000</td>\n",
       "      <td>0.000000</td>\n",
       "      <td>0.000000e+00</td>\n",
       "      <td>0.000000</td>\n",
       "    </tr>\n",
       "    <tr>\n",
       "      <th>25%</th>\n",
       "      <td>48.000000</td>\n",
       "      <td>0.000000</td>\n",
       "      <td>6.875000e+04</td>\n",
       "      <td>8.000000</td>\n",
       "      <td>0.000000</td>\n",
       "      <td>9.599998e+03</td>\n",
       "      <td>0.000000</td>\n",
       "    </tr>\n",
       "    <tr>\n",
       "      <th>50%</th>\n",
       "      <td>55.000000</td>\n",
       "      <td>1.000000</td>\n",
       "      <td>3.960000e+05</td>\n",
       "      <td>15.000000</td>\n",
       "      <td>0.000000</td>\n",
       "      <td>2.334834e+04</td>\n",
       "      <td>0.000000</td>\n",
       "    </tr>\n",
       "    <tr>\n",
       "      <th>75%</th>\n",
       "      <td>66.000000</td>\n",
       "      <td>1.000000</td>\n",
       "      <td>1.045500e+06</td>\n",
       "      <td>21.000000</td>\n",
       "      <td>0.000000</td>\n",
       "      <td>4.524958e+04</td>\n",
       "      <td>0.000000</td>\n",
       "    </tr>\n",
       "    <tr>\n",
       "      <th>max</th>\n",
       "      <td>132.000000</td>\n",
       "      <td>3.000000</td>\n",
       "      <td>2.525000e+06</td>\n",
       "      <td>44.000000</td>\n",
       "      <td>0.999999</td>\n",
       "      <td>1.678998e+06</td>\n",
       "      <td>1.000000</td>\n",
       "    </tr>\n",
       "  </tbody>\n",
       "</table>\n",
       "</div>"
      ],
      "text/plain": [
       "               Age  Total_Children  Total_Spending  Total_Transactions  \\\n",
       "count  2240.000000     2240.000000    2.240000e+03         2240.000000   \n",
       "mean     56.194196        0.950446    6.057982e+05           14.862054   \n",
       "std      11.984069        0.751803    6.022493e+05            7.677173   \n",
       "min      29.000000        0.000000    5.000000e+03            0.000000   \n",
       "25%      48.000000        0.000000    6.875000e+04            8.000000   \n",
       "50%      55.000000        1.000000    3.960000e+05           15.000000   \n",
       "75%      66.000000        1.000000    1.045500e+06           21.000000   \n",
       "max     132.000000        3.000000    2.525000e+06           44.000000   \n",
       "\n",
       "       Conversion_Rate  Avg_Transaction_Value     Response  \n",
       "count      2240.000000           2.240000e+03  2240.000000  \n",
       "mean          0.043471           3.327146e+04     0.149107  \n",
       "std           0.142662           4.501429e+04     0.356274  \n",
       "min           0.000000           0.000000e+00     0.000000  \n",
       "25%           0.000000           9.599998e+03     0.000000  \n",
       "50%           0.000000           2.334834e+04     0.000000  \n",
       "75%           0.000000           4.524958e+04     0.000000  \n",
       "max           0.999999           1.678998e+06     1.000000  "
      ]
     },
     "execution_count": 88,
     "metadata": {},
     "output_type": "execute_result"
    }
   ],
   "source": [
    "print(\"\\nDescriptive statistics for new features:\")\n",
    "df_engineered[new_features].describe()"
   ]
  },
  {
   "cell_type": "code",
   "execution_count": 89,
   "id": "cd90da63",
   "metadata": {},
   "outputs": [],
   "source": [
    "# Save the latest version of the data\n",
    "df_engineered.to_csv('marketing_campaign_data_engineered.csv', index=False)"
   ]
  },
  {
   "cell_type": "markdown",
   "id": "33606b37",
   "metadata": {},
   "source": [
    "### Siap untuk Visualisasi: `Conversion_Rate` & Rencana Analisis\n",
    "\n",
    "#### **Apa Artinya `Conversion_Rate`?**\n",
    "\n",
    "Metrik ini sekarang jauh lebih pintar. Begini cara kerjanya:\n",
    "\n",
    "* Jika pelanggan merespons kampanye, *rate*-nya dihitung sebagai **1 / Jumlah Kunjungan Web**. Contohnya, pelanggan yang merespons setelah 7 kali kunjungan web mendapat skor 0.14.\n",
    "* Jika pelanggan tidak merespons, *rate*-nya adalah **0**.\n",
    "\n",
    "Rata-rata `Conversion_Rate` memang terlihat kecil (sekitar 4.3%), karena mayoritas pelanggan tidak merespons. Tapi, di sinilah letak \"harta karun\"-nya: **nilai maksimumnya adalah 1.0**. Ini berarti ada segmen pelanggan yang merespons kampanye hanya dalam **satu kali kunjungan**. 🎯\n",
    "\n",
    "Merekalah pelanggan super-efisien yang karakteristiknya ingin kita bedah.\n",
    "\n",
    "#### **Berikutnya: Mengungkap Insight Lewat Visualisasi**\n",
    "\n",
    "Dengan data yang jauh lebih kaya ini, kita siap untuk tahap yang paling seru. Rencana visualisasi kita tetap sama, karena tujuannya jelas: **memahami siapa pelanggan kita yang paling responsif.**\n",
    "\n",
    "Inilah yang akan kita selidiki:\n",
    "\n",
    "* **Perbandingan Profil:** Siapa yang merespons vs. tidak? Kita akan bandingkan `Umur`, `Pendapatan`, dan `Total Belanja` kedua grup.\n",
    "* **Analisis Top Spenders:** Siapa pelanggan dengan kantong paling tebal? Kita akan visualisasikan distribusi total belanja mereka.\n",
    "* **Heatmap Korelasi:** Adakah hubungan tersembunyi antar variabel? Heatmap akan mengungkap semuanya secara cepat.\n",
    "\n",
    "Saatnya mengubah angka-angka ini menjadi cerita yang bisa ditindaklanjuti. Mari kita mulai! 🚀"
   ]
  },
  {
   "cell_type": "code",
   "execution_count": 90,
   "id": "1404ce5b",
   "metadata": {},
   "outputs": [
    {
     "name": "stdout",
     "output_type": "stream",
     "text": [
      "Age grouping created. Sample data:\n",
      "   Age            Age_Group\n",
      "0   68         Senior (65+)\n",
      "1   71         Senior (65+)\n",
      "2   60  Middle-Aged (50-64)\n",
      "3   41        Adult (40-49)\n",
      "4   44        Adult (40-49)\n"
     ]
    }
   ],
   "source": [
    "import matplotlib.pyplot as plt\n",
    "import seaborn as sns\n",
    "\n",
    "# Load the engineered data\n",
    "df_viz = pd.read_csv('marketing_campaign_data_engineered.csv')\n",
    "\n",
    "# --- Age Grouping ---\n",
    "# First, let's handle the outlier in Age. We'll cap the age at a reasonable max, e.g., 90.\n",
    "df_viz = df_viz[df_viz['Age'] < 90]\n",
    "\n",
    "# Define age bins and labels\n",
    "age_bins = [28, 39, 49, 64, 90]\n",
    "age_labels = ['Young Adult (29-39)', 'Adult (40-49)', 'Middle-Aged (50-64)', 'Senior (65+)']\n",
    "df_viz['Age_Group'] = pd.cut(df_viz['Age'], bins=age_bins, labels=age_labels, right=True)\n",
    "\n",
    "print(\"Age grouping created. Sample data:\")\n",
    "print(df_viz[['Age', 'Age_Group']].head())"
   ]
  },
  {
   "cell_type": "code",
   "execution_count": 91,
   "id": "e73ce938",
   "metadata": {},
   "outputs": [
    {
     "name": "stderr",
     "output_type": "stream",
     "text": [
      "C:\\Users\\ACER\\AppData\\Local\\Temp\\ipykernel_31700\\107160168.py:13: UserWarning: set_ticklabels() should only be used with a fixed number of ticks, i.e. after set_ticks() or using a FixedLocator.\n",
      "  axes[0].set_xticklabels(['Tidak Merespons', 'Merespons'])\n",
      "C:\\Users\\ACER\\AppData\\Local\\Temp\\ipykernel_31700\\107160168.py:20: UserWarning: set_ticklabels() should only be used with a fixed number of ticks, i.e. after set_ticks() or using a FixedLocator.\n",
      "  axes[1].set_xticklabels(['Tidak Merespons', 'Merespons'])\n"
     ]
    },
    {
     "data": {
      "image/png": "[encoded data removed]",
      "text/plain": [
       "<Figure size 2000x600 with 3 Axes>"
      ]
     },
     "metadata": {},
     "output_type": "display_data"
    }
   ],
   "source": [
    "# --- Visualization ---\n",
    "\n",
    "# Set plot style\n",
    "sns.set(style='whitegrid')\n",
    "\n",
    "# 1. Profil Pelanggan yang Merespons vs. Tidak\n",
    "fig, axes = plt.subplots(1, 3, figsize=(20, 6))\n",
    "fig.suptitle('Perbandingan Profil Pelanggan: Responders vs. Non-Responders', fontsize=16)\n",
    "\n",
    "# Plot 1: Rata-rata Pendapatan\n",
    "sns.barplot(x='Response', y='Income', data=df_viz, ax=axes[0])\n",
    "axes[0].set_title('Rata-rata Pendapatan', fontsize=12)\n",
    "axes[0].set_xticklabels(['Tidak Merespons', 'Merespons'])\n",
    "axes[0].set_ylabel('Income (in 10 millions)')\n",
    "\n",
    "\n",
    "# Plot 2: Rata-rata Total Belanja\n",
    "sns.barplot(x='Response', y='Total_Spending', data=df_viz, ax=axes[1])\n",
    "axes[1].set_title('Rata-rata Total Belanja', fontsize=12)\n",
    "axes[1].set_xticklabels(['Tidak Merespons', 'Merespons'])\n",
    "axes[1].set_ylabel('Total Spending')\n",
    "\n",
    "# Plot 3: Distribusi Kelompok Umur\n",
    "sns.countplot(x='Age_Group', hue='Response', data=df_viz, ax=axes[2])\n",
    "axes[2].set_title('Distribusi Respon per Kelompok Umur', fontsize=12)\n",
    "axes[2].legend(title='Response', labels=['Tidak Merespons', 'Merespons'])\n",
    "axes[2].tick_params(axis='x', rotation=45)\n",
    "\n",
    "plt.tight_layout(rect=[0, 0.03, 1, 0.95])\n",
    "plt.savefig('customer_profile_comparison.png')\n",
    "plt.show()\n",
    "plt.close()"
   ]
  },
  {
   "cell_type": "markdown",
   "id": "d63d125d",
   "metadata": {},
   "source": [
    "### Kesimpulan Utama dari Visualisasi: Ikuti Jejak Uangnya!\n",
    "\n",
    "Visualisasi data kita sudah siap, dan ceritanya sangat jelas. Lupakan demografi seperti umur, karena faktor penentu utamanya adalah **daya beli**.\n",
    "\n",
    "Berikut adalah tiga temuan besar yang akan membentuk strategi kita ke depan:\n",
    "\n",
    "#### **1. Pelanggan Ideal Kita: Berpenghasilan Tinggi & Suka Belanja 🎯**\n",
    "\n",
    "Data tidak bohong. Pelanggan yang merespons kampanye kita secara konsisten adalah mereka yang memiliki **pendapatan lebih tinggi** dan **total belanja (Total_Spending) yang lebih besar**.\n",
    "\n",
    "* **Korelasi Terkuat:** Heatmap mengonfirmasi ini secara statistik. `Total_Spending` adalah prediktor paling akurat untuk respons kampanye.\n",
    "* **Faktor Umur Tidak Relevan:** Menariknya, umur sama sekali tidak berpengaruh. Respons tersebar merata di semua kelompok umur. Ini berarti menargetkan audiens berdasarkan usia kemungkinan besar tidak akan efektif.\n",
    "\n",
    "**Intinya:** Kampanye kita sangat beresonansi dengan pelanggan yang memiliki kapasitas belanja tinggi."
   ]
  },
  {
   "cell_type": "code",
   "execution_count": 92,
   "id": "d66f08ac",
   "metadata": {},
   "outputs": [
    {
     "data": {
      "image/png": "[encoded data removed]",
      "text/plain": [
       "<Figure size 1000x600 with 1 Axes>"
      ]
     },
     "metadata": {},
     "output_type": "display_data"
    },
    {
     "name": "stdout",
     "output_type": "stream",
     "text": [
      "\n",
      "Visualizations have been generated and saved as PNG files.\n"
     ]
    }
   ],
   "source": [
    "# 2. Distribusi Total Belanja\n",
    "plt.figure(figsize=(10, 6))\n",
    "sns.histplot(df_viz['Total_Spending'], kde=True, bins=30)\n",
    "plt.title('Distribusi Total Belanja Pelanggan', fontsize=16)\n",
    "plt.xlabel('Total Spending')\n",
    "plt.ylabel('Frekuensi')\n",
    "plt.savefig('spending_distribution.png')\n",
    "plt.show()\n",
    "plt.close()\n",
    "\n",
    "print(\"\\nVisualizations have been generated and saved as PNG files.\")"
   ]
  },
  {
   "cell_type": "markdown",
   "id": "ed936c48",
   "metadata": {},
   "source": [
    "\n",
    "#### **2. Mayoritas Pelanggan Kita Bukanlah 'Sultan' 🐋**\n",
    "\n",
    "Meskipun *high-spenders* adalah yang paling responsif, distribusi belanja menunjukkan bahwa sebagian besar pelanggan kita sebenarnya berada di **kelompok belanja rendah hingga menengah**.\n",
    "\n",
    "Hanya ada segelintir pelanggan \"paus\" (*high-value customers*) yang berbelanja dalam jumlah masif. Ini adalah peluang: bagaimana cara kita menggerakkan mayoritas pelanggan ini untuk meningkatkan nilai belanja mereka?"
   ]
  },
  {
   "cell_type": "code",
   "execution_count": 93,
   "id": "ee84a67c",
   "metadata": {},
   "outputs": [
    {
     "data": {
      "image/png": "[encoded data removed]",
      "text/plain": [
       "<Figure size 1200x800 with 2 Axes>"
      ]
     },
     "metadata": {},
     "output_type": "display_data"
    }
   ],
   "source": [
    "# 3. Heatmap Korelasi\n",
    "plt.figure(figsize=(12, 8))\n",
    "# Select relevant columns for correlation\n",
    "corr_cols = ['Income', 'Total_Children', 'Customer_Tenure',\n",
    "             'Total_Spending', 'Total_Transactions', 'Conversion_Rate',\n",
    "             'Total_Campaigns_Accepted', 'Response']\n",
    "corr_matrix = df_viz[corr_cols].corr()\n",
    "sns.heatmap(corr_matrix, annot=True, cmap='coolwarm', fmt='.2f', linewidths=.5)\n",
    "plt.title('Heatmap Korelasi Antar Variabel Kunci', fontsize=16)\n",
    "plt.savefig('correlation_heatmap.png')\n",
    "plt.show()\n",
    "plt.close()"
   ]
  },
  {
   "cell_type": "markdown",
   "id": "855543ed",
   "metadata": {},
   "source": [
    "#### **3. Insight Mengejutkan: Pengaruh Jumlah Anak**\n",
    "\n",
    "Ada satu korelasi menarik lainnya: semakin banyak anak yang dimiliki pelanggan (`Total_Children`), semakin rendah total belanja mereka. Ini sangat masuk akal—anggaran rumah tangga mereka mungkin teralokasi untuk kebutuhan lain.\n",
    "\n",
    "Ini bisa menjadi dasar untuk segmentasi baru, di mana kita menawarkan produk atau promosi yang lebih relevan bagi keluarga.\n",
    "\n",
    "**Langkah Selanjutnya:** Fokuskan strategi marketing pada sinyal ekonomi (pendapatan & histori belanja) dan pertimbangkan persona keluarga sebagai segmen yang butuh pendekatan khusus."
   ]
  },
  {
   "cell_type": "code",
   "execution_count": 94,
   "id": "584e1d8e",
   "metadata": {},
   "outputs": [],
   "source": [
    "# Load the engineered data\n",
    "df_final = pd.read_csv('marketing_campaign_data_engineered.csv')\n",
    "\n",
    "# Handle the age outlier as before\n",
    "df_final = df_final[df_final['Age'] < 90]\n",
    "\n",
    "# Create Age_Group if it doesn't exist (e.g., in a new session)\n",
    "if 'Age_Group' not in df_final.columns:\n",
    "    age_bins = [28, 39, 49, 64, 90]\n",
    "    age_labels = ['Young Adult (29-39)', 'Adult (40-49)', 'Middle-Aged (50-64)', 'Senior (65+)']\n",
    "    df_final['Age_Group'] = pd.cut(df_final['Age'], bins=age_bins, labels=age_labels, right=True)"
   ]
  },
  {
   "cell_type": "code",
   "execution_count": 95,
   "id": "f15c3dcf",
   "metadata": {},
   "outputs": [
    {
     "data": {
      "image/png": "[encoded data removed]",
      "text/plain": [
       "<Figure size 1200x700 with 1 Axes>"
      ]
     },
     "metadata": {},
     "output_type": "display_data"
    },
    {
     "name": "stdout",
     "output_type": "stream",
     "text": [
      "Visualisasi baru 'age_vs_conversion_rate.png' telah berhasil dibuat.\n"
     ]
    }
   ],
   "source": [
    "# --- Visualization: Age Group vs. Conversion Rate ---\n",
    "\n",
    "# Set plot style\n",
    "sns.set(style='whitegrid')\n",
    "\n",
    "plt.figure(figsize=(12, 7))\n",
    "sns.barplot(x='Age_Group', y='Conversion_Rate', data=df_final, palette='viridis')\n",
    "plt.title('Rata-rata Conversion Rate per Kelompok Umur', fontsize=16)\n",
    "plt.xlabel('Kelompok Umur (Age Group)', fontsize=12)\n",
    "plt.ylabel('Rata-rata Conversion Rate', fontsize=12)\n",
    "plt.xticks(rotation=45)\n",
    "plt.tight_layout()\n",
    "plt.savefig('age_vs_conversion_rate.png')\n",
    "plt.show()\n",
    "plt.close()\n",
    "\n",
    "print(\"Visualisasi baru 'age_vs_conversion_rate.png' telah berhasil dibuat.\")"
   ]
  },
  {
   "cell_type": "code",
   "execution_count": 96,
   "id": "f9d4697d",
   "metadata": {},
   "outputs": [
    {
     "data": {
      "image/png": "[encoded data removed]",
      "text/plain": [
       "<Figure size 1400x800 with 1 Axes>"
      ]
     },
     "metadata": {},
     "output_type": "display_data"
    },
    {
     "name": "stdout",
     "output_type": "stream",
     "text": [
      "Visualisasi baru 'age_conversion_scatter.png' telah berhasil dibuat.\n"
     ]
    }
   ],
   "source": [
    "# --- Visualization: Scatter Plot ---\n",
    "\n",
    "# Set plot style\n",
    "sns.set(style='whitegrid')\n",
    "\n",
    "plt.figure(figsize=(14, 8))\n",
    "sns.scatterplot(\n",
    "    x='Age',\n",
    "    y='Conversion_Rate',\n",
    "    hue='Response',\n",
    "    data=df_final,\n",
    "    alpha=0.6,  # Use transparency to handle overplotting\n",
    "    palette={0: 'gray', 1: 'blue'}\n",
    ")\n",
    "plt.title('Scatter Plot: Hubungan Antara Umur dan Conversion Rate', fontsize=16)\n",
    "plt.xlabel('Umur Pelanggan (Age)', fontsize=12)\n",
    "plt.ylabel('Conversion Rate (Response / Web Visits)', fontsize=12)\n",
    "plt.legend(title='Response', labels=['Tidak Merespons', 'Merespons'])\n",
    "plt.tight_layout()\n",
    "plt.savefig('age_conversion_scatter.png')\n",
    "plt.show()\n",
    "plt.close()\n",
    "\n",
    "print(\"Visualisasi baru 'age_conversion_scatter.png' telah berhasil dibuat.\")"
   ]
  },
  {
   "cell_type": "markdown",
   "id": "24144f04",
   "metadata": {},
   "source": [
    "### Plot Umur vs. Conversion Rate: Apa Kata Data?\n",
    "\n",
    "Kita baru saja memetakan hubungan antara kelompok umur pelanggan dan *conversion rate*, dan hasilnya cukup mengejutkan.\n",
    "\n",
    "💡 **Temuan Kunci:** Ternyata, tidak ada pola atau hubungan yang jelas antara umur dan *conversion rate*. Angkanya cenderung rendah dan hampir sama di semua segmen, mulai dari 'Young Adult' hingga 'Senior'.\n",
    "\n",
    "**Apa artinya ini untuk bisnis?**\n",
    "\n",
    "Sederhananya, menargetkan pelanggan hanya berdasarkan usia sepertinya bukan strategi yang efektif. Data ini mengonfirmasi temuan kita sebelumnya: faktor seperti pendapatan (*Income*) dan total belanja (*Total_Spending*) jauh lebih berpengaruh dalam mendorong konversi.\n",
    "\n",
    "Ini adalah kesimpulan penting. Daripada fokus pada umur, upaya marketing kita akan jauh lebih tajam dan berdampak jika diarahkan pada perilaku belanja dan kekuatan ekonomi pelanggan. Usia mereka, ternyata, bukan pembeda utamanya. 🎯"
   ]
  },
  {
   "cell_type": "markdown",
   "id": "882123f7",
   "metadata": {},
   "source": [
    "### Ringkasan: Dua Dunia Pelanggan Kita\n",
    "\n",
    "### Inilah Cerita dari Data Kita: The Tale of Two Customers\n",
    "\n",
    "Setelah semua analisis, ceritanya mengerucut pada satu kesimpulan kuat: kita tidak punya satu jenis pelanggan, melainkan dua dunia yang sangat berbeda.\n",
    "\n",
    "#### **Dunia 1: The VIPs (Minoritas yang Loyal) 💎**\n",
    "\n",
    "* **Siapa mereka?** Anggap mereka sebagai klub eksklusif kita: sekelompok kecil pelanggan dengan pendapatan dan daya beli yang jauh di atas rata-rata.\n",
    "* **Bagaimana perilaku mereka?** Mereka mendengar kita. Mereka adalah segmen yang paling rajin merespons setiap kampanye marketing yang kita luncurkan.\n",
    "* **Artinya?** Strategi kita saat ini sudah **sempurna** untuk memenangkan hati segmen ini. Kita tahu cara bicara dengan mereka.\n",
    "\n",
    "#### **Dunia 2: The Untapped Majority (Mayoritas yang Diam) 👥**\n",
    "\n",
    "* **Siapa mereka?** Inilah basis pelanggan kita yang sesungguhnya. Kelompok terbesar yang terdiri dari *low-to-medium spenders*.\n",
    "* **Bagaimana perilaku mereka?** Saat ini, mereka diam. Kampanye dan penawaran kita sepertinya belum \"klik\" atau terasa relevan bagi mereka. Mereka tidak menolak, tapi kita belum berhasil menarik perhatian mereka.\n",
    "* **Artinya?** Di sinilah letak **peluang pertumbuhan terbesar kita**. Mampu \"membuka\" dan mengaktifkan segmen raksasa ini bukan lagi sekadar optimasi—ini adalah langkah yang bisa mengubah skala pendapatan kita secara fundamental. 🚀"
   ]
  },
  {
   "cell_type": "markdown",
   "id": "843fdad1",
   "metadata": {},
   "source": [
    "### Mengapa Kita Gagal Menjangkau Mayoritas Pelanggan? (Root Cause Analysis)\n",
    "\n",
    "Jadi, mengapa kampanye kita tidak \"klik\" dengan segmen mayoritas? Kita membedahnya dari empat sudut pandang:\n",
    "\n",
    "* **Penawaran Kita (People):** Hipotesis utamanya adalah soal **relevansi dan harga**. \"The Silent Majority,\" dengan daya beli yang lebih rendah, kemungkinan besar merasa penawaran kita terlalu premium atau tidak sesuai dengan kebutuhan mereka. Data `Income` dan `Total_Spending` yang jomplang mengonfirmasi ini.\n",
    "* **Strategi Penargetan Kita (Process):** Proses kita mungkin terjebak dalam \"ruang gema\". Kita terlalu fokus mencari kloning dari pelanggan terbaik kita, sehingga secara tidak sengaja **mengabaikan profil mayoritas**. Kesuksesan kita di segmen atas justru menjadi bukti adanya bias ini.\n",
    "* **Kanal Marketing Kita (Technology):** Kanal andalan kita, seperti katalog, terbukti sangat disukai oleh *high-spenders*. Tapi, mungkinkah kanal ini **kurang efektif** untuk menjangkau audiens yang lebih luas dan lebih sadar anggaran?\n",
    "* **Pesaing Kita (External):** Kita tidak bermain sendirian. Sangat mungkin **kompetitor lebih agresif** dengan penawaran *entry-level* yang lebih menarik, sehingga perhatian segmen mayoritas ini sudah tercuri sebelum kita sempat menyapa.\n",
    "\n",
    "---\n",
    "\n",
    "### Game Plan: 3 Langkah untuk Memenangkan \"The Silent Majority\"\n",
    "\n",
    "Berdasarkan diagnosis di atas, berikut adalah tiga langkah strategis untuk membalikkan keadaan, diurutkan berdasarkan dampak:\n",
    "\n",
    "#### **1. Luncurkan Kampanye Bertingkat (*Tiered Campaigns*) 🎯**\n",
    "\n",
    "* **Apa:** Hentikan pendekatan \"satu untuk semua\". Buat dua jalur kampanye:\n",
    "    * **Tier VIP:** Lanjutkan penawaran premium yang sudah terbukti ampuh untuk para *high-spenders*.\n",
    "    * **Tier Mayoritas:** Rancang kampanye baru yang berteriak **\"nilai & terjangkau\"**. Pikirkan diskon, BOGO, atau paket *bundling* yang sulit ditolak.\n",
    "* **Mengapa:** Ini adalah serangan langsung ke jantung masalah: relevansi penawaran dan sensitivitas harga.\n",
    "\n",
    "#### **2. Bangun Ulang Segmentasi & Lakukan A/B Testing 🧪**\n",
    "\n",
    "* **Apa:** Buat persona baru untuk \"The Silent Majority\". Siapa mereka sebenarnya? Apa yang mereka butuhkan? Gunakan persona ini sebagai dasar untuk melakukan A/B *testing* pada segala hal: pesan, visual, hingga jenis penawaran.\n",
    "* **Mengapa:** Ini akan membongkar **proses penargetan kita yang bias** dan memberi kita data konkret tentang apa yang benar-benar berhasil untuk segmen terbesar kita.\n",
    "\n",
    "#### **3. Optimalkan Kanal Berdasarkan Segmen 📢**\n",
    "\n",
    "* **Apa:** Cari tahu di mana \"The Silent Majority\" paling sering \"berkumpul\" (`web`, `toko`, atau lainnya). Alokasikan ulang sebagian anggaran untuk memperkuat promosi yang relevan (dari Poin #1) di kanal-kanal tersebut.\n",
    "* **Mengapa:** Ini memastikan pesan yang tepat sampai ke audiens yang tepat melalui **jalur yang paling efektif**.\n",
    "\n",
    "---\n",
    "\n",
    "### Simulasi Dampak: Seberapa Besar Peluang Ini?\n",
    "\n",
    "Mari kita hitung potensi keuntungannya dengan angka konservatif.\n",
    "\n",
    "* **Kondisi Saat Ini:** Ada **1.903** pelanggan di \"Silent Majority\" yang responsnya nyaris **0%**.\n",
    "* **Target Sederhana:** Kita hanya menargetkan untuk mengaktifkan **5%** dari mereka dengan kampanye baru, dengan nilai transaksi rata-rata **Rp 23,348**.\n",
    "\n",
    "**Hasil Estimasi:**\n",
    "* Target Responden Baru: 5% x 1.903 = **~95 orang**\n",
    "* **Potensi Tambahan Pendapatan: 95 x Rp 23,348 = Rp 2,2 juta per kampanye!**\n",
    "\n",
    "Ini adalah dampak instan hanya dari langkah pertama. Bayangkan hasilnya saat kita terus mengoptimalkan strategi ini dari waktu ke waktu.\n",
    "\n",
    "---\n",
    "\n",
    "### Kata Penutup: Saatnya Menyapa Pelanggan Kita yang Lain\n",
    "\n",
    "Analisis ini membuktikan satu hal: ada tambang emas yang belum kita sentuh di dalam basis pelanggan kita sendiri.\n",
    "\n",
    "Dengan beralih dari pendekatan \"satu untuk semua\" ke strategi yang cerdas dan tersegmentasi, kita tidak hanya akan membuka aliran pendapatan baru. Kita akan membangun hubungan yang lebih kuat dengan mayoritas pelanggan yang selama ini merasa tidak kita sapa.\n",
    "\n",
    "**Sudah saatnya kita memulai percakapan dengan mereka. 🚀**"
   ]
  },
  {
   "cell_type": "markdown",
   "id": "8812c7bc",
   "metadata": {},
   "source": [
    "# Data Cleaning\n"
   ]
  },
  {
   "cell_type": "code",
   "execution_count": 97,
   "id": "f4a6afee",
   "metadata": {},
   "outputs": [
    {
     "data": {
      "application/vnd.microsoft.datawrangler.viewer.v0+json": {
       "columns": [
        {
         "name": "index",
         "rawType": "int64",
         "type": "integer"
        },
        {
         "name": "Year_Birth",
         "rawType": "int64",
         "type": "integer"
        },
        {
         "name": "Education",
         "rawType": "object",
         "type": "string"
        },
        {
         "name": "Marital_Status",
         "rawType": "object",
         "type": "string"
        },
        {
         "name": "Income",
         "rawType": "float64",
         "type": "float"
        },
        {
         "name": "Kidhome",
         "rawType": "int64",
         "type": "integer"
        },
        {
         "name": "Teenhome",
         "rawType": "int64",
         "type": "integer"
        },
        {
         "name": "Dt_Customer",
         "rawType": "object",
         "type": "string"
        },
        {
         "name": "Recency",
         "rawType": "int64",
         "type": "integer"
        },
        {
         "name": "MntCoke",
         "rawType": "int64",
         "type": "integer"
        },
        {
         "name": "MntFruits",
         "rawType": "int64",
         "type": "integer"
        },
        {
         "name": "MntMeatProducts",
         "rawType": "int64",
         "type": "integer"
        },
        {
         "name": "MntFishProducts",
         "rawType": "int64",
         "type": "integer"
        },
        {
         "name": "MntSweetProducts",
         "rawType": "int64",
         "type": "integer"
        },
        {
         "name": "MntGoldProds",
         "rawType": "int64",
         "type": "integer"
        },
        {
         "name": "NumDealsPurchases",
         "rawType": "int64",
         "type": "integer"
        },
        {
         "name": "NumWebPurchases",
         "rawType": "int64",
         "type": "integer"
        },
        {
         "name": "NumCatalogPurchases",
         "rawType": "int64",
         "type": "integer"
        },
        {
         "name": "NumStorePurchases",
         "rawType": "int64",
         "type": "integer"
        },
        {
         "name": "NumWebVisitsMonth",
         "rawType": "int64",
         "type": "integer"
        },
        {
         "name": "AcceptedCmp3",
         "rawType": "int64",
         "type": "integer"
        },
        {
         "name": "AcceptedCmp4",
         "rawType": "int64",
         "type": "integer"
        },
        {
         "name": "AcceptedCmp5",
         "rawType": "int64",
         "type": "integer"
        },
        {
         "name": "AcceptedCmp1",
         "rawType": "int64",
         "type": "integer"
        },
        {
         "name": "AcceptedCmp2",
         "rawType": "int64",
         "type": "integer"
        },
        {
         "name": "Complain",
         "rawType": "int64",
         "type": "integer"
        },
        {
         "name": "Response",
         "rawType": "int64",
         "type": "integer"
        },
        {
         "name": "Age",
         "rawType": "int64",
         "type": "integer"
        },
        {
         "name": "Customer_Tenure",
         "rawType": "int64",
         "type": "integer"
        },
        {
         "name": "Total_Spending",
         "rawType": "int64",
         "type": "integer"
        },
        {
         "name": "Total_Campaigns_Accepted",
         "rawType": "int64",
         "type": "integer"
        },
        {
         "name": "Total_Children",
         "rawType": "int64",
         "type": "integer"
        },
        {
         "name": "Total_Transactions",
         "rawType": "int64",
         "type": "integer"
        },
        {
         "name": "Avg_Transaction_Value",
         "rawType": "float64",
         "type": "float"
        },
        {
         "name": "Conversion_Rate",
         "rawType": "float64",
         "type": "float"
        },
        {
         "name": "Age_Group",
         "rawType": "category",
         "type": "unknown"
        }
       ],
       "ref": "8457575d-a31c-4fdc-86f2-4409ab217d92",
       "rows": [
        [
         "644",
         "1947",
         "Postgraduate",
         "In Relationship",
         "77632000.0",
         "0",
         "0",
         "2013-03-10",
         "73",
         "1200000",
         "105000",
         "758000",
         "0",
         "42000",
         "147000",
         "1",
         "4",
         "2",
         "6",
         "2",
         "0",
         "1",
         "1",
         "0",
         "0",
         "0",
         "1",
         "78",
         "4561",
         "2252000",
         "2",
         "0",
         "13",
         "173230.75590532648",
         "0.499999750000125",
         "Senior (65+)"
        ],
        [
         "1957",
         "1956",
         "Undergraduate",
         "Single",
         "46998000.0",
         "0",
         "1",
         "2012-10-22",
         "55",
         "172000",
         "41000",
         "86000",
         "45000",
         "6000",
         "27000",
         "5",
         "5",
         "3",
         "5",
         "7",
         "1",
         "0",
         "0",
         "0",
         "0",
         "0",
         "0",
         "69",
         "4700",
         "377000",
         "1",
         "1",
         "18",
         "20944.44328086426",
         "0.0",
         "Senior (65+)"
        ],
        [
         "317",
         "1985",
         "Undergraduate",
         "Single",
         "66503000.0",
         "1",
         "0",
         "2012-08-14",
         "30",
         "91000",
         "64000",
         "128000",
         "65000",
         "3000",
         "50000",
         "2",
         "4",
         "3",
         "6",
         "3",
         "0",
         "0",
         "0",
         "0",
         "0",
         "0",
         "0",
         "40",
         "4769",
         "401000",
         "0",
         "1",
         "15",
         "26733.33155111123",
         "0.0",
         "Adult (40-49)"
        ],
        [
         "660",
         "1963",
         "Undergraduate",
         "In Relationship",
         "56253000.0",
         "0",
         "1",
         "2012-12-07",
         "83",
         "509000",
         "0",
         "65000",
         "7000",
         "11000",
         "5000",
         "4",
         "7",
         "2",
         "9",
         "6",
         "0",
         "0",
         "0",
         "0",
         "0",
         "0",
         "0",
         "62",
         "4654",
         "597000",
         "0",
         "1",
         "22",
         "27136.362402892617",
         "0.0",
         "Middle-Aged (50-64)"
        ],
        [
         "796",
         "1954",
         "Postgraduate",
         "In Relationship",
         "70421000.0",
         "0",
         "1",
         "2014-06-28",
         "98",
         "479000",
         "28000",
         "136000",
         "75000",
         "14000",
         "35000",
         "3",
         "10",
         "3",
         "7",
         "6",
         "0",
         "0",
         "0",
         "0",
         "0",
         "0",
         "0",
         "71",
         "4086",
         "767000",
         "0",
         "1",
         "23",
         "33347.824637051104",
         "0.0",
         "Senior (65+)"
        ]
       ],
       "shape": {
        "columns": 35,
        "rows": 5
       }
      },
      "text/html": [
       "<div>\n",
       "<style scoped>\n",
       "    .dataframe tbody tr th:only-of-type {\n",
       "        vertical-align: middle;\n",
       "    }\n",
       "\n",
       "    .dataframe tbody tr th {\n",
       "        vertical-align: top;\n",
       "    }\n",
       "\n",
       "    .dataframe thead th {\n",
       "        text-align: right;\n",
       "    }\n",
       "</style>\n",
       "<table border=\"1\" class=\"dataframe\">\n",
       "  <thead>\n",
       "    <tr style=\"text-align: right;\">\n",
       "      <th></th>\n",
       "      <th>Year_Birth</th>\n",
       "      <th>Education</th>\n",
       "      <th>Marital_Status</th>\n",
       "      <th>Income</th>\n",
       "      <th>Kidhome</th>\n",
       "      <th>Teenhome</th>\n",
       "      <th>Dt_Customer</th>\n",
       "      <th>Recency</th>\n",
       "      <th>MntCoke</th>\n",
       "      <th>MntFruits</th>\n",
       "      <th>...</th>\n",
       "      <th>Response</th>\n",
       "      <th>Age</th>\n",
       "      <th>Customer_Tenure</th>\n",
       "      <th>Total_Spending</th>\n",
       "      <th>Total_Campaigns_Accepted</th>\n",
       "      <th>Total_Children</th>\n",
       "      <th>Total_Transactions</th>\n",
       "      <th>Avg_Transaction_Value</th>\n",
       "      <th>Conversion_Rate</th>\n",
       "      <th>Age_Group</th>\n",
       "    </tr>\n",
       "  </thead>\n",
       "  <tbody>\n",
       "    <tr>\n",
       "      <th>644</th>\n",
       "      <td>1947</td>\n",
       "      <td>Postgraduate</td>\n",
       "      <td>In Relationship</td>\n",
       "      <td>77632000.0</td>\n",
       "      <td>0</td>\n",
       "      <td>0</td>\n",
       "      <td>2013-03-10</td>\n",
       "      <td>73</td>\n",
       "      <td>1200000</td>\n",
       "      <td>105000</td>\n",
       "      <td>...</td>\n",
       "      <td>1</td>\n",
       "      <td>78</td>\n",
       "      <td>4561</td>\n",
       "      <td>2252000</td>\n",
       "      <td>2</td>\n",
       "      <td>0</td>\n",
       "      <td>13</td>\n",
       "      <td>173230.755905</td>\n",
       "      <td>0.5</td>\n",
       "      <td>Senior (65+)</td>\n",
       "    </tr>\n",
       "    <tr>\n",
       "      <th>1957</th>\n",
       "      <td>1956</td>\n",
       "      <td>Undergraduate</td>\n",
       "      <td>Single</td>\n",
       "      <td>46998000.0</td>\n",
       "      <td>0</td>\n",
       "      <td>1</td>\n",
       "      <td>2012-10-22</td>\n",
       "      <td>55</td>\n",
       "      <td>172000</td>\n",
       "      <td>41000</td>\n",
       "      <td>...</td>\n",
       "      <td>0</td>\n",
       "      <td>69</td>\n",
       "      <td>4700</td>\n",
       "      <td>377000</td>\n",
       "      <td>1</td>\n",
       "      <td>1</td>\n",
       "      <td>18</td>\n",
       "      <td>20944.443281</td>\n",
       "      <td>0.0</td>\n",
       "      <td>Senior (65+)</td>\n",
       "    </tr>\n",
       "    <tr>\n",
       "      <th>317</th>\n",
       "      <td>1985</td>\n",
       "      <td>Undergraduate</td>\n",
       "      <td>Single</td>\n",
       "      <td>66503000.0</td>\n",
       "      <td>1</td>\n",
       "      <td>0</td>\n",
       "      <td>2012-08-14</td>\n",
       "      <td>30</td>\n",
       "      <td>91000</td>\n",
       "      <td>64000</td>\n",
       "      <td>...</td>\n",
       "      <td>0</td>\n",
       "      <td>40</td>\n",
       "      <td>4769</td>\n",
       "      <td>401000</td>\n",
       "      <td>0</td>\n",
       "      <td>1</td>\n",
       "      <td>15</td>\n",
       "      <td>26733.331551</td>\n",
       "      <td>0.0</td>\n",
       "      <td>Adult (40-49)</td>\n",
       "    </tr>\n",
       "    <tr>\n",
       "      <th>660</th>\n",
       "      <td>1963</td>\n",
       "      <td>Undergraduate</td>\n",
       "      <td>In Relationship</td>\n",
       "      <td>56253000.0</td>\n",
       "      <td>0</td>\n",
       "      <td>1</td>\n",
       "      <td>2012-12-07</td>\n",
       "      <td>83</td>\n",
       "      <td>509000</td>\n",
       "      <td>0</td>\n",
       "      <td>...</td>\n",
       "      <td>0</td>\n",
       "      <td>62</td>\n",
       "      <td>4654</td>\n",
       "      <td>597000</td>\n",
       "      <td>0</td>\n",
       "      <td>1</td>\n",
       "      <td>22</td>\n",
       "      <td>27136.362403</td>\n",
       "      <td>0.0</td>\n",
       "      <td>Middle-Aged (50-64)</td>\n",
       "    </tr>\n",
       "    <tr>\n",
       "      <th>796</th>\n",
       "      <td>1954</td>\n",
       "      <td>Postgraduate</td>\n",
       "      <td>In Relationship</td>\n",
       "      <td>70421000.0</td>\n",
       "      <td>0</td>\n",
       "      <td>1</td>\n",
       "      <td>2014-06-28</td>\n",
       "      <td>98</td>\n",
       "      <td>479000</td>\n",
       "      <td>28000</td>\n",
       "      <td>...</td>\n",
       "      <td>0</td>\n",
       "      <td>71</td>\n",
       "      <td>4086</td>\n",
       "      <td>767000</td>\n",
       "      <td>0</td>\n",
       "      <td>1</td>\n",
       "      <td>23</td>\n",
       "      <td>33347.824637</td>\n",
       "      <td>0.0</td>\n",
       "      <td>Senior (65+)</td>\n",
       "    </tr>\n",
       "  </tbody>\n",
       "</table>\n",
       "<p>5 rows × 35 columns</p>\n",
       "</div>"
      ],
      "text/plain": [
       "      Year_Birth      Education   Marital_Status      Income  Kidhome  \\\n",
       "644         1947   Postgraduate  In Relationship  77632000.0        0   \n",
       "1957        1956  Undergraduate           Single  46998000.0        0   \n",
       "317         1985  Undergraduate           Single  66503000.0        1   \n",
       "660         1963  Undergraduate  In Relationship  56253000.0        0   \n",
       "796         1954   Postgraduate  In Relationship  70421000.0        0   \n",
       "\n",
       "      Teenhome Dt_Customer  Recency  MntCoke  MntFruits  ...  Response  Age  \\\n",
       "644          0  2013-03-10       73  1200000     105000  ...         1   78   \n",
       "1957         1  2012-10-22       55   172000      41000  ...         0   69   \n",
       "317          0  2012-08-14       30    91000      64000  ...         0   40   \n",
       "660          1  2012-12-07       83   509000          0  ...         0   62   \n",
       "796          1  2014-06-28       98   479000      28000  ...         0   71   \n",
       "\n",
       "      Customer_Tenure  Total_Spending  Total_Campaigns_Accepted  \\\n",
       "644              4561         2252000                         2   \n",
       "1957             4700          377000                         1   \n",
       "317              4769          401000                         0   \n",
       "660              4654          597000                         0   \n",
       "796              4086          767000                         0   \n",
       "\n",
       "      Total_Children  Total_Transactions  Avg_Transaction_Value  \\\n",
       "644                0                  13          173230.755905   \n",
       "1957               1                  18           20944.443281   \n",
       "317                1                  15           26733.331551   \n",
       "660                1                  22           27136.362403   \n",
       "796                1                  23           33347.824637   \n",
       "\n",
       "      Conversion_Rate            Age_Group  \n",
       "644               0.5         Senior (65+)  \n",
       "1957              0.0         Senior (65+)  \n",
       "317               0.0        Adult (40-49)  \n",
       "660               0.0  Middle-Aged (50-64)  \n",
       "796               0.0         Senior (65+)  \n",
       "\n",
       "[5 rows x 35 columns]"
      ]
     },
     "execution_count": 97,
     "metadata": {},
     "output_type": "execute_result"
    }
   ],
   "source": [
    "df_final.sample(5)"
   ]
  },
  {
   "cell_type": "code",
   "execution_count": 98,
   "id": "7d06b877",
   "metadata": {},
   "outputs": [
    {
     "name": "stdout",
     "output_type": "stream",
     "text": [
      "<class 'pandas.core.frame.DataFrame'>\n",
      "Index: 2237 entries, 0 to 2239\n",
      "Data columns (total 35 columns):\n",
      " #   Column                    Non-Null Count  Dtype   \n",
      "---  ------                    --------------  -----   \n",
      " 0   Year_Birth                2237 non-null   int64   \n",
      " 1   Education                 2237 non-null   object  \n",
      " 2   Marital_Status            2237 non-null   object  \n",
      " 3   Income                    2237 non-null   float64 \n",
      " 4   Kidhome                   2237 non-null   int64   \n",
      " 5   Teenhome                  2237 non-null   int64   \n",
      " 6   Dt_Customer               2237 non-null   object  \n",
      " 7   Recency                   2237 non-null   int64   \n",
      " 8   MntCoke                   2237 non-null   int64   \n",
      " 9   MntFruits                 2237 non-null   int64   \n",
      " 10  MntMeatProducts           2237 non-null   int64   \n",
      " 11  MntFishProducts           2237 non-null   int64   \n",
      " 12  MntSweetProducts          2237 non-null   int64   \n",
      " 13  MntGoldProds              2237 non-null   int64   \n",
      " 14  NumDealsPurchases         2237 non-null   int64   \n",
      " 15  NumWebPurchases           2237 non-null   int64   \n",
      " 16  NumCatalogPurchases       2237 non-null   int64   \n",
      " 17  NumStorePurchases         2237 non-null   int64   \n",
      " 18  NumWebVisitsMonth         2237 non-null   int64   \n",
      " 19  AcceptedCmp3              2237 non-null   int64   \n",
      " 20  AcceptedCmp4              2237 non-null   int64   \n",
      " 21  AcceptedCmp5              2237 non-null   int64   \n",
      " 22  AcceptedCmp1              2237 non-null   int64   \n",
      " 23  AcceptedCmp2              2237 non-null   int64   \n",
      " 24  Complain                  2237 non-null   int64   \n",
      " 25  Response                  2237 non-null   int64   \n",
      " 26  Age                       2237 non-null   int64   \n",
      " 27  Customer_Tenure           2237 non-null   int64   \n",
      " 28  Total_Spending            2237 non-null   int64   \n",
      " 29  Total_Campaigns_Accepted  2237 non-null   int64   \n",
      " 30  Total_Children            2237 non-null   int64   \n",
      " 31  Total_Transactions        2237 non-null   int64   \n",
      " 32  Avg_Transaction_Value     2237 non-null   float64 \n",
      " 33  Conversion_Rate           2237 non-null   float64 \n",
      " 34  Age_Group                 2237 non-null   category\n",
      "dtypes: category(1), float64(3), int64(28), object(3)\n",
      "memory usage: 614.1+ KB\n"
     ]
    }
   ],
   "source": [
    "df_final.info()"
   ]
  },
  {
   "cell_type": "code",
   "execution_count": 99,
   "id": "0ebab5f0",
   "metadata": {},
   "outputs": [
    {
     "data": {
      "application/vnd.microsoft.datawrangler.viewer.v0+json": {
       "columns": [
        {
         "name": "index",
         "rawType": "object",
         "type": "string"
        },
        {
         "name": "Unnamed: 0",
         "rawType": "float64",
         "type": "float"
        },
        {
         "name": "ID",
         "rawType": "float64",
         "type": "float"
        },
        {
         "name": "Year_Birth",
         "rawType": "float64",
         "type": "float"
        },
        {
         "name": "Income",
         "rawType": "float64",
         "type": "float"
        },
        {
         "name": "Kidhome",
         "rawType": "float64",
         "type": "float"
        },
        {
         "name": "Teenhome",
         "rawType": "float64",
         "type": "float"
        },
        {
         "name": "Recency",
         "rawType": "float64",
         "type": "float"
        },
        {
         "name": "MntCoke",
         "rawType": "float64",
         "type": "float"
        },
        {
         "name": "MntFruits",
         "rawType": "float64",
         "type": "float"
        },
        {
         "name": "MntMeatProducts",
         "rawType": "float64",
         "type": "float"
        },
        {
         "name": "MntFishProducts",
         "rawType": "float64",
         "type": "float"
        },
        {
         "name": "MntSweetProducts",
         "rawType": "float64",
         "type": "float"
        },
        {
         "name": "MntGoldProds",
         "rawType": "float64",
         "type": "float"
        },
        {
         "name": "NumDealsPurchases",
         "rawType": "float64",
         "type": "float"
        },
        {
         "name": "NumWebPurchases",
         "rawType": "float64",
         "type": "float"
        },
        {
         "name": "NumCatalogPurchases",
         "rawType": "float64",
         "type": "float"
        },
        {
         "name": "NumStorePurchases",
         "rawType": "float64",
         "type": "float"
        },
        {
         "name": "NumWebVisitsMonth",
         "rawType": "float64",
         "type": "float"
        },
        {
         "name": "AcceptedCmp3",
         "rawType": "float64",
         "type": "float"
        },
        {
         "name": "AcceptedCmp4",
         "rawType": "float64",
         "type": "float"
        },
        {
         "name": "AcceptedCmp5",
         "rawType": "float64",
         "type": "float"
        },
        {
         "name": "AcceptedCmp1",
         "rawType": "float64",
         "type": "float"
        },
        {
         "name": "AcceptedCmp2",
         "rawType": "float64",
         "type": "float"
        },
        {
         "name": "Complain",
         "rawType": "float64",
         "type": "float"
        },
        {
         "name": "Z_CostContact",
         "rawType": "float64",
         "type": "float"
        },
        {
         "name": "Z_Revenue",
         "rawType": "float64",
         "type": "float"
        },
        {
         "name": "Response",
         "rawType": "float64",
         "type": "float"
        }
       ],
       "ref": "3a86827e-de73-4209-a262-9ca9e1df1df1",
       "rows": [
        [
         "count",
         "2240.0",
         "2240.0",
         "2240.0",
         "2216.0",
         "2240.0",
         "2240.0",
         "2240.0",
         "2240.0",
         "2240.0",
         "2240.0",
         "2240.0",
         "2240.0",
         "2240.0",
         "2240.0",
         "2240.0",
         "2240.0",
         "2240.0",
         "2240.0",
         "2240.0",
         "2240.0",
         "2240.0",
         "2240.0",
         "2240.0",
         "2240.0",
         "2240.0",
         "2240.0",
         "2240.0"
        ],
        [
         "mean",
         "1119.5",
         "5592.159821428571",
         "1968.8058035714287",
         "52247251.35379061",
         "0.44419642857142855",
         "0.50625",
         "49.109375",
         "303935.71428571426",
         "26302.23214285714",
         "166950.0",
         "37525.44642857143",
         "27062.946428571428",
         "44021.875",
         "2.325",
         "4.084821428571429",
         "2.6620535714285714",
         "5.790178571428571",
         "5.316517857142857",
         "0.07276785714285715",
         "0.07455357142857143",
         "0.07276785714285715",
         "0.06428571428571428",
         "0.013392857142857142",
         "0.009375",
         "3.0",
         "11.0",
         "0.14910714285714285"
        ],
        [
         "std",
         "646.7766229541695",
         "3246.6621975643407",
         "11.984069456885829",
         "25173076.660901405",
         "0.5383980977345936",
         "0.5445382307698758",
         "28.962452808378206",
         "336597.3926053717",
         "39773.433764578556",
         "225715.3725117536",
         "54628.979402878074",
         "41280.49848785494",
         "52167.43891499733",
         "1.932237500855979",
         "2.778714147388102",
         "2.9231006555397463",
         "3.2509581456744323",
         "2.426645009547286",
         "0.25981306992189507",
         "0.2627282848535613",
         "0.25981306992189507",
         "0.24531597433401414",
         "0.1149756062554841",
         "0.09639116794449755",
         "0.0",
         "0.0",
         "0.35627358640847917"
        ],
        [
         "min",
         "0.0",
         "0.0",
         "1893.0",
         "1730000.0",
         "0.0",
         "0.0",
         "0.0",
         "0.0",
         "0.0",
         "0.0",
         "0.0",
         "0.0",
         "0.0",
         "0.0",
         "0.0",
         "0.0",
         "0.0",
         "0.0",
         "0.0",
         "0.0",
         "0.0",
         "0.0",
         "0.0",
         "0.0",
         "3.0",
         "11.0",
         "0.0"
        ],
        [
         "25%",
         "559.75",
         "2828.25",
         "1959.0",
         "35303000.0",
         "0.0",
         "0.0",
         "24.0",
         "23750.0",
         "1000.0",
         "16000.0",
         "3000.0",
         "1000.0",
         "9000.0",
         "1.0",
         "2.0",
         "0.0",
         "3.0",
         "3.0",
         "0.0",
         "0.0",
         "0.0",
         "0.0",
         "0.0",
         "0.0",
         "3.0",
         "11.0",
         "0.0"
        ],
        [
         "50%",
         "1119.5",
         "5458.5",
         "1970.0",
         "51381500.0",
         "0.0",
         "0.0",
         "49.0",
         "173500.0",
         "8000.0",
         "67000.0",
         "12000.0",
         "8000.0",
         "24000.0",
         "2.0",
         "4.0",
         "2.0",
         "5.0",
         "6.0",
         "0.0",
         "0.0",
         "0.0",
         "0.0",
         "0.0",
         "0.0",
         "3.0",
         "11.0",
         "0.0"
        ],
        [
         "75%",
         "1679.25",
         "8427.75",
         "1977.0",
         "68522000.0",
         "1.0",
         "1.0",
         "74.0",
         "504250.0",
         "33000.0",
         "232000.0",
         "50000.0",
         "33000.0",
         "56000.0",
         "3.0",
         "6.0",
         "4.0",
         "8.0",
         "7.0",
         "0.0",
         "0.0",
         "0.0",
         "0.0",
         "0.0",
         "0.0",
         "3.0",
         "11.0",
         "0.0"
        ],
        [
         "max",
         "2239.0",
         "11191.0",
         "1996.0",
         "666666000.0",
         "2.0",
         "2.0",
         "99.0",
         "1493000.0",
         "199000.0",
         "1725000.0",
         "259000.0",
         "263000.0",
         "362000.0",
         "15.0",
         "27.0",
         "28.0",
         "13.0",
         "20.0",
         "1.0",
         "1.0",
         "1.0",
         "1.0",
         "1.0",
         "1.0",
         "3.0",
         "11.0",
         "1.0"
        ]
       ],
       "shape": {
        "columns": 27,
        "rows": 8
       }
      },
      "text/html": [
       "<div>\n",
       "<style scoped>\n",
       "    .dataframe tbody tr th:only-of-type {\n",
       "        vertical-align: middle;\n",
       "    }\n",
       "\n",
       "    .dataframe tbody tr th {\n",
       "        vertical-align: top;\n",
       "    }\n",
       "\n",
       "    .dataframe thead th {\n",
       "        text-align: right;\n",
       "    }\n",
       "</style>\n",
       "<table border=\"1\" class=\"dataframe\">\n",
       "  <thead>\n",
       "    <tr style=\"text-align: right;\">\n",
       "      <th></th>\n",
       "      <th>Unnamed: 0</th>\n",
       "      <th>ID</th>\n",
       "      <th>Year_Birth</th>\n",
       "      <th>Income</th>\n",
       "      <th>Kidhome</th>\n",
       "      <th>Teenhome</th>\n",
       "      <th>Recency</th>\n",
       "      <th>MntCoke</th>\n",
       "      <th>MntFruits</th>\n",
       "      <th>MntMeatProducts</th>\n",
       "      <th>...</th>\n",
       "      <th>NumWebVisitsMonth</th>\n",
       "      <th>AcceptedCmp3</th>\n",
       "      <th>AcceptedCmp4</th>\n",
       "      <th>AcceptedCmp5</th>\n",
       "      <th>AcceptedCmp1</th>\n",
       "      <th>AcceptedCmp2</th>\n",
       "      <th>Complain</th>\n",
       "      <th>Z_CostContact</th>\n",
       "      <th>Z_Revenue</th>\n",
       "      <th>Response</th>\n",
       "    </tr>\n",
       "  </thead>\n",
       "  <tbody>\n",
       "    <tr>\n",
       "      <th>count</th>\n",
       "      <td>2240.000000</td>\n",
       "      <td>2240.000000</td>\n",
       "      <td>2240.000000</td>\n",
       "      <td>2.216000e+03</td>\n",
       "      <td>2240.000000</td>\n",
       "      <td>2240.000000</td>\n",
       "      <td>2240.000000</td>\n",
       "      <td>2.240000e+03</td>\n",
       "      <td>2240.000000</td>\n",
       "      <td>2.240000e+03</td>\n",
       "      <td>...</td>\n",
       "      <td>2240.000000</td>\n",
       "      <td>2240.000000</td>\n",
       "      <td>2240.000000</td>\n",
       "      <td>2240.000000</td>\n",
       "      <td>2240.000000</td>\n",
       "      <td>2240.000000</td>\n",
       "      <td>2240.000000</td>\n",
       "      <td>2240.0</td>\n",
       "      <td>2240.0</td>\n",
       "      <td>2240.000000</td>\n",
       "    </tr>\n",
       "    <tr>\n",
       "      <th>mean</th>\n",
       "      <td>1119.500000</td>\n",
       "      <td>5592.159821</td>\n",
       "      <td>1968.805804</td>\n",
       "      <td>5.224725e+07</td>\n",
       "      <td>0.444196</td>\n",
       "      <td>0.506250</td>\n",
       "      <td>49.109375</td>\n",
       "      <td>3.039357e+05</td>\n",
       "      <td>26302.232143</td>\n",
       "      <td>1.669500e+05</td>\n",
       "      <td>...</td>\n",
       "      <td>5.316518</td>\n",
       "      <td>0.072768</td>\n",
       "      <td>0.074554</td>\n",
       "      <td>0.072768</td>\n",
       "      <td>0.064286</td>\n",
       "      <td>0.013393</td>\n",
       "      <td>0.009375</td>\n",
       "      <td>3.0</td>\n",
       "      <td>11.0</td>\n",
       "      <td>0.149107</td>\n",
       "    </tr>\n",
       "    <tr>\n",
       "      <th>std</th>\n",
       "      <td>646.776623</td>\n",
       "      <td>3246.662198</td>\n",
       "      <td>11.984069</td>\n",
       "      <td>2.517308e+07</td>\n",
       "      <td>0.538398</td>\n",
       "      <td>0.544538</td>\n",
       "      <td>28.962453</td>\n",
       "      <td>3.365974e+05</td>\n",
       "      <td>39773.433765</td>\n",
       "      <td>2.257154e+05</td>\n",
       "      <td>...</td>\n",
       "      <td>2.426645</td>\n",
       "      <td>0.259813</td>\n",
       "      <td>0.262728</td>\n",
       "      <td>0.259813</td>\n",
       "      <td>0.245316</td>\n",
       "      <td>0.114976</td>\n",
       "      <td>0.096391</td>\n",
       "      <td>0.0</td>\n",
       "      <td>0.0</td>\n",
       "      <td>0.356274</td>\n",
       "    </tr>\n",
       "    <tr>\n",
       "      <th>min</th>\n",
       "      <td>0.000000</td>\n",
       "      <td>0.000000</td>\n",
       "      <td>1893.000000</td>\n",
       "      <td>1.730000e+06</td>\n",
       "      <td>0.000000</td>\n",
       "      <td>0.000000</td>\n",
       "      <td>0.000000</td>\n",
       "      <td>0.000000e+00</td>\n",
       "      <td>0.000000</td>\n",
       "      <td>0.000000e+00</td>\n",
       "      <td>...</td>\n",
       "      <td>0.000000</td>\n",
       "      <td>0.000000</td>\n",
       "      <td>0.000000</td>\n",
       "      <td>0.000000</td>\n",
       "      <td>0.000000</td>\n",
       "      <td>0.000000</td>\n",
       "      <td>0.000000</td>\n",
       "      <td>3.0</td>\n",
       "      <td>11.0</td>\n",
       "      <td>0.000000</td>\n",
       "    </tr>\n",
       "    <tr>\n",
       "      <th>25%</th>\n",
       "      <td>559.750000</td>\n",
       "      <td>2828.250000</td>\n",
       "      <td>1959.000000</td>\n",
       "      <td>3.530300e+07</td>\n",
       "      <td>0.000000</td>\n",
       "      <td>0.000000</td>\n",
       "      <td>24.000000</td>\n",
       "      <td>2.375000e+04</td>\n",
       "      <td>1000.000000</td>\n",
       "      <td>1.600000e+04</td>\n",
       "      <td>...</td>\n",
       "      <td>3.000000</td>\n",
       "      <td>0.000000</td>\n",
       "      <td>0.000000</td>\n",
       "      <td>0.000000</td>\n",
       "      <td>0.000000</td>\n",
       "      <td>0.000000</td>\n",
       "      <td>0.000000</td>\n",
       "      <td>3.0</td>\n",
       "      <td>11.0</td>\n",
       "      <td>0.000000</td>\n",
       "    </tr>\n",
       "    <tr>\n",
       "      <th>50%</th>\n",
       "      <td>1119.500000</td>\n",
       "      <td>5458.500000</td>\n",
       "      <td>1970.000000</td>\n",
       "      <td>5.138150e+07</td>\n",
       "      <td>0.000000</td>\n",
       "      <td>0.000000</td>\n",
       "      <td>49.000000</td>\n",
       "      <td>1.735000e+05</td>\n",
       "      <td>8000.000000</td>\n",
       "      <td>6.700000e+04</td>\n",
       "      <td>...</td>\n",
       "      <td>6.000000</td>\n",
       "      <td>0.000000</td>\n",
       "      <td>0.000000</td>\n",
       "      <td>0.000000</td>\n",
       "      <td>0.000000</td>\n",
       "      <td>0.000000</td>\n",
       "      <td>0.000000</td>\n",
       "      <td>3.0</td>\n",
       "      <td>11.0</td>\n",
       "      <td>0.000000</td>\n",
       "    </tr>\n",
       "    <tr>\n",
       "      <th>75%</th>\n",
       "      <td>1679.250000</td>\n",
       "      <td>8427.750000</td>\n",
       "      <td>1977.000000</td>\n",
       "      <td>6.852200e+07</td>\n",
       "      <td>1.000000</td>\n",
       "      <td>1.000000</td>\n",
       "      <td>74.000000</td>\n",
       "      <td>5.042500e+05</td>\n",
       "      <td>33000.000000</td>\n",
       "      <td>2.320000e+05</td>\n",
       "      <td>...</td>\n",
       "      <td>7.000000</td>\n",
       "      <td>0.000000</td>\n",
       "      <td>0.000000</td>\n",
       "      <td>0.000000</td>\n",
       "      <td>0.000000</td>\n",
       "      <td>0.000000</td>\n",
       "      <td>0.000000</td>\n",
       "      <td>3.0</td>\n",
       "      <td>11.0</td>\n",
       "      <td>0.000000</td>\n",
       "    </tr>\n",
       "    <tr>\n",
       "      <th>max</th>\n",
       "      <td>2239.000000</td>\n",
       "      <td>11191.000000</td>\n",
       "      <td>1996.000000</td>\n",
       "      <td>6.666660e+08</td>\n",
       "      <td>2.000000</td>\n",
       "      <td>2.000000</td>\n",
       "      <td>99.000000</td>\n",
       "      <td>1.493000e+06</td>\n",
       "      <td>199000.000000</td>\n",
       "      <td>1.725000e+06</td>\n",
       "      <td>...</td>\n",
       "      <td>20.000000</td>\n",
       "      <td>1.000000</td>\n",
       "      <td>1.000000</td>\n",
       "      <td>1.000000</td>\n",
       "      <td>1.000000</td>\n",
       "      <td>1.000000</td>\n",
       "      <td>1.000000</td>\n",
       "      <td>3.0</td>\n",
       "      <td>11.0</td>\n",
       "      <td>1.000000</td>\n",
       "    </tr>\n",
       "  </tbody>\n",
       "</table>\n",
       "<p>8 rows × 27 columns</p>\n",
       "</div>"
      ],
      "text/plain": [
       "        Unnamed: 0            ID   Year_Birth        Income      Kidhome  \\\n",
       "count  2240.000000   2240.000000  2240.000000  2.216000e+03  2240.000000   \n",
       "mean   1119.500000   5592.159821  1968.805804  5.224725e+07     0.444196   \n",
       "std     646.776623   3246.662198    11.984069  2.517308e+07     0.538398   \n",
       "min       0.000000      0.000000  1893.000000  1.730000e+06     0.000000   \n",
       "25%     559.750000   2828.250000  1959.000000  3.530300e+07     0.000000   \n",
       "50%    1119.500000   5458.500000  1970.000000  5.138150e+07     0.000000   \n",
       "75%    1679.250000   8427.750000  1977.000000  6.852200e+07     1.000000   \n",
       "max    2239.000000  11191.000000  1996.000000  6.666660e+08     2.000000   \n",
       "\n",
       "          Teenhome      Recency       MntCoke      MntFruits  MntMeatProducts  \\\n",
       "count  2240.000000  2240.000000  2.240000e+03    2240.000000     2.240000e+03   \n",
       "mean      0.506250    49.109375  3.039357e+05   26302.232143     1.669500e+05   \n",
       "std       0.544538    28.962453  3.365974e+05   39773.433765     2.257154e+05   \n",
       "min       0.000000     0.000000  0.000000e+00       0.000000     0.000000e+00   \n",
       "25%       0.000000    24.000000  2.375000e+04    1000.000000     1.600000e+04   \n",
       "50%       0.000000    49.000000  1.735000e+05    8000.000000     6.700000e+04   \n",
       "75%       1.000000    74.000000  5.042500e+05   33000.000000     2.320000e+05   \n",
       "max       2.000000    99.000000  1.493000e+06  199000.000000     1.725000e+06   \n",
       "\n",
       "       ...  NumWebVisitsMonth  AcceptedCmp3  AcceptedCmp4  AcceptedCmp5  \\\n",
       "count  ...        2240.000000   2240.000000   2240.000000   2240.000000   \n",
       "mean   ...           5.316518      0.072768      0.074554      0.072768   \n",
       "std    ...           2.426645      0.259813      0.262728      0.259813   \n",
       "min    ...           0.000000      0.000000      0.000000      0.000000   \n",
       "25%    ...           3.000000      0.000000      0.000000      0.000000   \n",
       "50%    ...           6.000000      0.000000      0.000000      0.000000   \n",
       "75%    ...           7.000000      0.000000      0.000000      0.000000   \n",
       "max    ...          20.000000      1.000000      1.000000      1.000000   \n",
       "\n",
       "       AcceptedCmp1  AcceptedCmp2     Complain  Z_CostContact  Z_Revenue  \\\n",
       "count   2240.000000   2240.000000  2240.000000         2240.0     2240.0   \n",
       "mean       0.064286      0.013393     0.009375            3.0       11.0   \n",
       "std        0.245316      0.114976     0.096391            0.0        0.0   \n",
       "min        0.000000      0.000000     0.000000            3.0       11.0   \n",
       "25%        0.000000      0.000000     0.000000            3.0       11.0   \n",
       "50%        0.000000      0.000000     0.000000            3.0       11.0   \n",
       "75%        0.000000      0.000000     0.000000            3.0       11.0   \n",
       "max        1.000000      1.000000     1.000000            3.0       11.0   \n",
       "\n",
       "          Response  \n",
       "count  2240.000000  \n",
       "mean      0.149107  \n",
       "std       0.356274  \n",
       "min       0.000000  \n",
       "25%       0.000000  \n",
       "50%       0.000000  \n",
       "75%       0.000000  \n",
       "max       1.000000  \n",
       "\n",
       "[8 rows x 27 columns]"
      ]
     },
     "execution_count": 99,
     "metadata": {},
     "output_type": "execute_result"
    }
   ],
   "source": [
    "df.describe()"
   ]
  },
  {
   "cell_type": "code",
   "execution_count": 100,
   "id": "d387a6fc",
   "metadata": {},
   "outputs": [
    {
     "data": {
      "application/vnd.microsoft.datawrangler.viewer.v0+json": {
       "columns": [
        {
         "name": "index",
         "rawType": "object",
         "type": "string"
        },
        {
         "name": "0",
         "rawType": "int64",
         "type": "integer"
        }
       ],
       "ref": "b406b008-5e80-43bb-8f3d-7a7ebc91a8c0",
       "rows": [
        [
         "Year_Birth",
         "0"
        ],
        [
         "Education",
         "0"
        ],
        [
         "Marital_Status",
         "0"
        ],
        [
         "Income",
         "0"
        ],
        [
         "Kidhome",
         "0"
        ],
        [
         "Teenhome",
         "0"
        ],
        [
         "Dt_Customer",
         "0"
        ],
        [
         "Recency",
         "0"
        ],
        [
         "MntCoke",
         "0"
        ],
        [
         "MntFruits",
         "0"
        ],
        [
         "MntMeatProducts",
         "0"
        ],
        [
         "MntFishProducts",
         "0"
        ],
        [
         "MntSweetProducts",
         "0"
        ],
        [
         "MntGoldProds",
         "0"
        ],
        [
         "NumDealsPurchases",
         "0"
        ],
        [
         "NumWebPurchases",
         "0"
        ],
        [
         "NumCatalogPurchases",
         "0"
        ],
        [
         "NumStorePurchases",
         "0"
        ],
        [
         "NumWebVisitsMonth",
         "0"
        ],
        [
         "AcceptedCmp3",
         "0"
        ],
        [
         "AcceptedCmp4",
         "0"
        ],
        [
         "AcceptedCmp5",
         "0"
        ],
        [
         "AcceptedCmp1",
         "0"
        ],
        [
         "AcceptedCmp2",
         "0"
        ],
        [
         "Complain",
         "0"
        ],
        [
         "Response",
         "0"
        ],
        [
         "Age",
         "0"
        ],
        [
         "Customer_Tenure",
         "0"
        ],
        [
         "Total_Spending",
         "0"
        ],
        [
         "Total_Campaigns_Accepted",
         "0"
        ],
        [
         "Total_Children",
         "0"
        ],
        [
         "Total_Transactions",
         "0"
        ],
        [
         "Avg_Transaction_Value",
         "0"
        ],
        [
         "Conversion_Rate",
         "0"
        ],
        [
         "Age_Group",
         "0"
        ]
       ],
       "shape": {
        "columns": 1,
        "rows": 35
       }
      },
      "text/plain": [
       "Year_Birth                  0\n",
       "Education                   0\n",
       "Marital_Status              0\n",
       "Income                      0\n",
       "Kidhome                     0\n",
       "Teenhome                    0\n",
       "Dt_Customer                 0\n",
       "Recency                     0\n",
       "MntCoke                     0\n",
       "MntFruits                   0\n",
       "MntMeatProducts             0\n",
       "MntFishProducts             0\n",
       "MntSweetProducts            0\n",
       "MntGoldProds                0\n",
       "NumDealsPurchases           0\n",
       "NumWebPurchases             0\n",
       "NumCatalogPurchases         0\n",
       "NumStorePurchases           0\n",
       "NumWebVisitsMonth           0\n",
       "AcceptedCmp3                0\n",
       "AcceptedCmp4                0\n",
       "AcceptedCmp5                0\n",
       "AcceptedCmp1                0\n",
       "AcceptedCmp2                0\n",
       "Complain                    0\n",
       "Response                    0\n",
       "Age                         0\n",
       "Customer_Tenure             0\n",
       "Total_Spending              0\n",
       "Total_Campaigns_Accepted    0\n",
       "Total_Children              0\n",
       "Total_Transactions          0\n",
       "Avg_Transaction_Value       0\n",
       "Conversion_Rate             0\n",
       "Age_Group                   0\n",
       "dtype: int64"
      ]
     },
     "execution_count": 100,
     "metadata": {},
     "output_type": "execute_result"
    }
   ],
   "source": [
    "df_final.isna().sum()"
   ]
  },
  {
   "cell_type": "markdown",
   "id": "8c29b2ee",
   "metadata": {},
   "source": [
    "Berikut adalah temuan awal dari inspeksi data:\n",
    "\n",
    "  * **Dataset Lengkap**: Data terdiri dari **2240 baris (pelanggan)** dan **34 kolom (fitur)**.\n",
    "  * **Tidak Ada Missing Values**: Semua kolom memiliki 2240 *non-null count*, yang berarti tidak ada data yang hilang. Kita tidak perlu melakukan imputasi data.\n",
    "  * **Tipe Data Sesuai**: Sebagian besar data sudah dalam format numerik (`int64`, `float64`) yang siap untuk analisis, kecuali `Education`, `Marital_Status`, dan `Dt_Customer` yang merupakan `object` (teks).\n",
    "  * **Distribusi Data**: Jika kita lihat dari statistik deskriptif:\n",
    "      * **`Response`**: Rata-rata (mean) dari kolom `Response` adalah **0.149**. Artinya, tingkat respons dari kampanye terakhir adalah sekitar **14.9%**. Ini adalah *baseline* kita.\n",
    "      * **`Conversion_Rate`**: Nilai *mean*-nya adalah 0.043 (atau 4.3%), namun nilai maksimumnya bisa mencapai 0.99 (99%). Ini menandakan ada variasi yang sangat besar dalam tingkat konversi antar pelanggan, yang mana ini sangat bagus untuk dasar clustering.\n",
    "      * **`Age`**: Usia pelanggan berkisar dari 29 hingga 132 tahun. Nilai 132 tampaknya merupakan *outlier* atau data anomali yang mungkin perlu kita periksa nanti.\n",
    "      * **`Income`**: Pendapatan juga memiliki rentang yang sangat lebar, dengan nilai maksimum yang sangat tinggi. Ini juga kandidat untuk diperiksa lebih lanjut sebagai *outlier*.\n"
   ]
  },
  {
   "cell_type": "markdown",
   "id": "ee39e39a",
   "metadata": {},
   "source": [
    "### Analisis Lanjutan: Distribusi & Korelasi `Conversion_Rate`\n",
    "\n",
    "Kita akan melakukan dua hal:\n",
    "\n",
    "1.  **Membuat Histogram:** Untuk melihat bagaimana distribusi (sebaran) nilai `Conversion_Rate` di antara semua pelanggan. Ini akan memberi tahu kita apakah kebanyakan pelanggan memiliki conversion rate rendah, tinggi, atau merata.\n",
    "2.  **Membuat Heatmap Korelasi:** Untuk mengukur seberapa kuat hubungan linear antara `Conversion_Rate`, `Total_Spending`, dan `Response`. Angka mendekati 1 atau -1 menunjukkan korelasi yang kuat.\n"
   ]
  },
  {
   "cell_type": "code",
   "execution_count": 101,
   "id": "9ba6a0ef",
   "metadata": {},
   "outputs": [
    {
     "data": {
      "image/png": "[encoded data removed]",
      "text/plain": [
       "<Figure size 1200x600 with 1 Axes>"
      ]
     },
     "metadata": {},
     "output_type": "display_data"
    }
   ],
   "source": [
    "# Mengatur style plot\n",
    "sns.set_style(\"whitegrid\")\n",
    "\n",
    "# 1. Membuat Histogram untuk Conversion_Rate\n",
    "plt.figure(figsize=(12, 6))\n",
    "sns.histplot(df_final['Conversion_Rate'], bins=30, kde=True)\n",
    "plt.title('Distribusi Customer Conversion Rate', fontsize=16)\n",
    "plt.xlabel('Conversion Rate', fontsize=12)\n",
    "plt.ylabel('Jumlah Pelanggan', fontsize=12)\n",
    "plt.tight_layout()\n",
    "plt.show() # <-- Tambahkan ini untuk menampilkan plot secara langsung"
   ]
  },
  {
   "cell_type": "code",
   "execution_count": 102,
   "id": "de8ada15",
   "metadata": {},
   "outputs": [
    {
     "data": {
      "image/png": "[encoded data removed]",
      "text/plain": [
       "<Figure size 800x600 with 2 Axes>"
      ]
     },
     "metadata": {},
     "output_type": "display_data"
    }
   ],
   "source": [
    "# 2. Membuat Heatmap Korelasi\n",
    "# Memilih kolom untuk analisis korelasi\n",
    "correlation_cols = ['Conversion_Rate', 'Total_Spending', 'Response']\n",
    "correlation_matrix = df_final[correlation_cols].corr()\n",
    "\n",
    "plt.figure(figsize=(8, 6))\n",
    "sns.heatmap(correlation_matrix, annot=True, cmap='coolwarm', fmt=\".2f\")\n",
    "plt.title('Heatmap Korelasi', fontsize=16)\n",
    "plt.tight_layout()\n",
    "plt.show() # <-- Tambahkan ini juga di sini"
   ]
  },
  {
   "cell_type": "markdown",
   "id": "b78b9e9e",
   "metadata": {},
   "source": [
    "### Interpretasi Hasil\n",
    "\n",
    "**1. Distribusi Conversion Rate (Histogram)**\n",
    "\n",
    "  * Seperti yang terlihat pada histogram pertama, sebagian besar pelanggan (**distribusi sangat miring ke kanan**) memiliki `Conversion_Rate` yang mendekati nol.\n",
    "  * Ini adalah temuan yang umum: hanya sebagian kecil pelanggan yang benar-benar aktif dan sering melakukan konversi dari kunjungan menjadi pembelian.\n",
    "  * Kelompok kecil dengan `Conversion_Rate` lebih tinggi inilah yang menjadi target paling potensial untuk kita analisis lebih lanjut dalam clustering. Mereka adalah \"bintang\"-nya.\n",
    "\n",
    "**2. Hubungan Antar Metrik (Heatmap Korelasi)**\n",
    "\n",
    "  * **`Conversion_Rate` vs `Response` (Korelasi: 0.73):** Ini adalah temuan paling signifikan. Ada **korelasi positif yang kuat** antara tingkat konversi seorang pelanggan di masa lalu dengan kemungkinan dia merespons kampanye baru. Ini mengkonfirmasi hipotesis kita: **pelanggan yang secara historis efisien dalam berbelanja adalah target terbaik untuk kampanye di masa depan.**\n",
    "  * **`Conversion_Rate` vs `Total_Spending` (Korelasi: 0.35):** Ada korelasi positif yang moderat. Ini masuk akal; pelanggan yang lebih sering konversi cenderung menghabiskan lebih banyak uang secara total, meskipun hubungannya tidak sekuat dengan `Response`.\n",
    "  * **`Total_Spending` vs `Response` (Korelasi: 0.27):** Korelasinya positif namun tergolong lemah. Ini menunjukkan bahwa hanya karena seseorang menghabiskan banyak uang, tidak secara otomatis berarti mereka akan merespons kampanye *tertentu*. Faktor `Conversion_Rate` jauh lebih prediktif.\n",
    "\n",
    "### Kesimpulan Awal\n",
    "\n",
    "Analisis ini memperkuat ide Anda untuk melakukan clustering. Kita bisa melihat ada kelompok pelanggan yang jelas berbeda (kelompok besar dengan konversi rendah vs. kelompok kecil dengan konversi tinggi)."
   ]
  },
  {
   "cell_type": "markdown",
   "id": "1d7033a4",
   "metadata": {},
   "source": [
    "# Data Preparation\n"
   ]
  },
  {
   "cell_type": "code",
   "execution_count": 103,
   "id": "b51f8f3a",
   "metadata": {},
   "outputs": [],
   "source": [
    "# 1. Memilih Fitur untuk Clustering\n",
    "# Kita pilih fitur-fitur yang paling menggambarkan profil dan perilaku pelanggan.\n",
    "features_for_clustering = [\n",
    "    'Income',\n",
    "    'Recency',\n",
    "    'Age',\n",
    "    'Customer_Tenure',\n",
    "    'Total_Spending',\n",
    "    'Total_Campaigns_Accepted',\n",
    "    'Total_Children',\n",
    "    'Total_Transactions',\n",
    "    'Avg_Transaction_Value',\n",
    "    'Conversion_Rate'\n",
    "]\n",
    "df_cluster = df_final[features_for_clustering].copy()"
   ]
  },
  {
   "cell_type": "code",
   "execution_count": 104,
   "id": "aea0f362",
   "metadata": {},
   "outputs": [],
   "source": [
    "# Menghapus baris dengan nilai Income yang kosong (jika ada) dan memastikan semua data numerik\n",
    "df_cluster = df_cluster.dropna()"
   ]
  },
  {
   "cell_type": "code",
   "execution_count": 105,
   "id": "a026bce2",
   "metadata": {},
   "outputs": [
    {
     "name": "stdout",
     "output_type": "stream",
     "text": [
      "Fitur yang digunakan untuk clustering:\n",
      "['Income', 'Recency', 'Age', 'Customer_Tenure', 'Total_Spending', 'Total_Campaigns_Accepted', 'Total_Children', 'Total_Transactions', 'Avg_Transaction_Value', 'Conversion_Rate']\n",
      "\n",
      "Jumlah data yang akan di-cluster: 2237 pelanggan\n"
     ]
    }
   ],
   "source": [
    "print(\"Fitur yang digunakan untuk clustering:\")\n",
    "print(df_cluster.columns.tolist())\n",
    "print(f\"\\nJumlah data yang akan di-cluster: {len(df_cluster)} pelanggan\")"
   ]
  },
  {
   "cell_type": "code",
   "execution_count": 106,
   "id": "84999fc9",
   "metadata": {},
   "outputs": [
    {
     "name": "stdout",
     "output_type": "stream",
     "text": [
      "\n",
      "Contoh data setelah standardisasi (5 baris pertama):\n"
     ]
    },
    {
     "data": {
      "application/vnd.microsoft.datawrangler.viewer.v0+json": {
       "columns": [
        {
         "name": "index",
         "rawType": "int64",
         "type": "integer"
        },
        {
         "name": "Income",
         "rawType": "float64",
         "type": "float"
        },
        {
         "name": "Recency",
         "rawType": "float64",
         "type": "float"
        },
        {
         "name": "Age",
         "rawType": "float64",
         "type": "float"
        },
        {
         "name": "Customer_Tenure",
         "rawType": "float64",
         "type": "float"
        },
        {
         "name": "Total_Spending",
         "rawType": "float64",
         "type": "float"
        },
        {
         "name": "Total_Campaigns_Accepted",
         "rawType": "float64",
         "type": "float"
        },
        {
         "name": "Total_Children",
         "rawType": "float64",
         "type": "float"
        },
        {
         "name": "Total_Transactions",
         "rawType": "float64",
         "type": "float"
        },
        {
         "name": "Avg_Transaction_Value",
         "rawType": "float64",
         "type": "float"
        },
        {
         "name": "Conversion_Rate",
         "rawType": "float64",
         "type": "float"
        }
       ],
       "ref": "6b350e4f-759a-43d9-923e-95b836538760",
       "rows": [
        [
         "1329",
         "0.7671078544480432",
         "-1.5580389337362976",
         "0.5899201796154724",
         "-0.34533814549269987",
         "1.3200079175484418",
         "2.509023429368786",
         "0.06540104006749761",
         "0.7986044313057995",
         "0.7427179587414349",
         "-0.30500757178162996"
        ],
        [
         "859",
         "-1.7864046464581225",
         "1.5508122791511327",
         "-1.5469595434880505",
         "0.9016139027886044",
         "-0.9817809255230011",
         "-0.43881554725830135",
         "-1.2646182929415224",
         "-1.4164147444018986",
         "-0.6558149838589556",
         "-0.30500757178162996"
        ],
        [
         "887",
         "-0.8153078443335484",
         "0.8254136628107323",
         "-0.3503068985500777",
         "0.7482190079603487",
         "-0.8687689101231035",
         "1.0351039410552423",
         "0.06540104006749761",
         "-1.025529007512305",
         "-0.47560668132003",
         "-0.30500757178162996"
        ],
        [
         "1339",
         "0.4240647338817865",
         "-1.5925817249906025",
         "1.7010976356293042",
         "1.3964361441700743",
         "0.9510569260958351",
         "1.0351039410552423",
         "1.3954203730765178",
         "1.7106711507148518",
         "0.19600670694932576",
         "0.5708546114217145"
        ],
        [
         "1192",
         "0.46384479536554385",
         "0.5145285415219892",
         "0.0770690460706269",
         "0.39689521657950505",
         "0.5023327473021242",
         "-0.43881554725830135",
         "0.06540104006749761",
         "0.9288996769356641",
         "0.17825289545938436",
         "-0.30500757178162996"
        ]
       ],
       "shape": {
        "columns": 10,
        "rows": 5
       }
      },
      "text/html": [
       "<div>\n",
       "<style scoped>\n",
       "    .dataframe tbody tr th:only-of-type {\n",
       "        vertical-align: middle;\n",
       "    }\n",
       "\n",
       "    .dataframe tbody tr th {\n",
       "        vertical-align: top;\n",
       "    }\n",
       "\n",
       "    .dataframe thead th {\n",
       "        text-align: right;\n",
       "    }\n",
       "</style>\n",
       "<table border=\"1\" class=\"dataframe\">\n",
       "  <thead>\n",
       "    <tr style=\"text-align: right;\">\n",
       "      <th></th>\n",
       "      <th>Income</th>\n",
       "      <th>Recency</th>\n",
       "      <th>Age</th>\n",
       "      <th>Customer_Tenure</th>\n",
       "      <th>Total_Spending</th>\n",
       "      <th>Total_Campaigns_Accepted</th>\n",
       "      <th>Total_Children</th>\n",
       "      <th>Total_Transactions</th>\n",
       "      <th>Avg_Transaction_Value</th>\n",
       "      <th>Conversion_Rate</th>\n",
       "    </tr>\n",
       "  </thead>\n",
       "  <tbody>\n",
       "    <tr>\n",
       "      <th>1329</th>\n",
       "      <td>0.767108</td>\n",
       "      <td>-1.558039</td>\n",
       "      <td>0.589920</td>\n",
       "      <td>-0.345338</td>\n",
       "      <td>1.320008</td>\n",
       "      <td>2.509023</td>\n",
       "      <td>0.065401</td>\n",
       "      <td>0.798604</td>\n",
       "      <td>0.742718</td>\n",
       "      <td>-0.305008</td>\n",
       "    </tr>\n",
       "    <tr>\n",
       "      <th>859</th>\n",
       "      <td>-1.786405</td>\n",
       "      <td>1.550812</td>\n",
       "      <td>-1.546960</td>\n",
       "      <td>0.901614</td>\n",
       "      <td>-0.981781</td>\n",
       "      <td>-0.438816</td>\n",
       "      <td>-1.264618</td>\n",
       "      <td>-1.416415</td>\n",
       "      <td>-0.655815</td>\n",
       "      <td>-0.305008</td>\n",
       "    </tr>\n",
       "    <tr>\n",
       "      <th>887</th>\n",
       "      <td>-0.815308</td>\n",
       "      <td>0.825414</td>\n",
       "      <td>-0.350307</td>\n",
       "      <td>0.748219</td>\n",
       "      <td>-0.868769</td>\n",
       "      <td>1.035104</td>\n",
       "      <td>0.065401</td>\n",
       "      <td>-1.025529</td>\n",
       "      <td>-0.475607</td>\n",
       "      <td>-0.305008</td>\n",
       "    </tr>\n",
       "    <tr>\n",
       "      <th>1339</th>\n",
       "      <td>0.424065</td>\n",
       "      <td>-1.592582</td>\n",
       "      <td>1.701098</td>\n",
       "      <td>1.396436</td>\n",
       "      <td>0.951057</td>\n",
       "      <td>1.035104</td>\n",
       "      <td>1.395420</td>\n",
       "      <td>1.710671</td>\n",
       "      <td>0.196007</td>\n",
       "      <td>0.570855</td>\n",
       "    </tr>\n",
       "    <tr>\n",
       "      <th>1192</th>\n",
       "      <td>0.463845</td>\n",
       "      <td>0.514529</td>\n",
       "      <td>0.077069</td>\n",
       "      <td>0.396895</td>\n",
       "      <td>0.502333</td>\n",
       "      <td>-0.438816</td>\n",
       "      <td>0.065401</td>\n",
       "      <td>0.928900</td>\n",
       "      <td>0.178253</td>\n",
       "      <td>-0.305008</td>\n",
       "    </tr>\n",
       "  </tbody>\n",
       "</table>\n",
       "</div>"
      ],
      "text/plain": [
       "        Income   Recency       Age  Customer_Tenure  Total_Spending  \\\n",
       "1329  0.767108 -1.558039  0.589920        -0.345338        1.320008   \n",
       "859  -1.786405  1.550812 -1.546960         0.901614       -0.981781   \n",
       "887  -0.815308  0.825414 -0.350307         0.748219       -0.868769   \n",
       "1339  0.424065 -1.592582  1.701098         1.396436        0.951057   \n",
       "1192  0.463845  0.514529  0.077069         0.396895        0.502333   \n",
       "\n",
       "      Total_Campaigns_Accepted  Total_Children  Total_Transactions  \\\n",
       "1329                  2.509023        0.065401            0.798604   \n",
       "859                  -0.438816       -1.264618           -1.416415   \n",
       "887                   1.035104        0.065401           -1.025529   \n",
       "1339                  1.035104        1.395420            1.710671   \n",
       "1192                 -0.438816        0.065401            0.928900   \n",
       "\n",
       "      Avg_Transaction_Value  Conversion_Rate  \n",
       "1329               0.742718        -0.305008  \n",
       "859               -0.655815        -0.305008  \n",
       "887               -0.475607        -0.305008  \n",
       "1339               0.196007         0.570855  \n",
       "1192               0.178253        -0.305008  "
      ]
     },
     "execution_count": 106,
     "metadata": {},
     "output_type": "execute_result"
    }
   ],
   "source": [
    "from sklearn.preprocessing import StandardScaler\n",
    "# 2. Melakukan Standardisasi Fitur\n",
    "scaler = StandardScaler()\n",
    "scaled_features = scaler.fit_transform(df_cluster)\n",
    "\n",
    "# Membuat DataFrame baru dari data yang sudah di-scaling\n",
    "df_scaled = pd.DataFrame(scaled_features, columns=df_cluster.columns)\n",
    "\n",
    "print(\"\\nContoh data setelah standardisasi (5 baris pertama):\")\n",
    "df_scaled.sample(5)"
   ]
  },
  {
   "cell_type": "code",
   "execution_count": 107,
   "id": "ac1fa35a",
   "metadata": {},
   "outputs": [],
   "source": [
    "from sklearn.cluster import KMeans\n",
    "inertia_list = []\n",
    "k_range = range(1, 11)  # Mencoba k dari 1 sampai 10\n",
    "\n",
    "for k in k_range:\n",
    "    kmeans = KMeans(n_clusters=k, random_state=42, n_init='auto')\n",
    "    kmeans.fit(df_scaled)\n",
    "    inertia_list.append(kmeans.inertia_)"
   ]
  },
  {
   "cell_type": "code",
   "execution_count": 108,
   "id": "ae223da0",
   "metadata": {},
   "outputs": [
    {
     "data": {
      "image/png": "[encoded data removed]",
      "text/plain": [
       "<Figure size 1000x600 with 1 Axes>"
      ]
     },
     "metadata": {},
     "output_type": "display_data"
    },
    {
     "name": "stdout",
     "output_type": "stream",
     "text": [
      "Grafik Elbow Method telah disimpan sebagai 'elbow_method.png'\n"
     ]
    }
   ],
   "source": [
    "plt.figure(figsize=(10, 6))\n",
    "plt.plot(k_range, inertia_list, marker='o', linestyle='--')\n",
    "plt.title('Elbow Method untuk Menentukan K Optimal', fontsize=16)\n",
    "plt.xlabel('Jumlah Cluster (K)', fontsize=12) # PERBAIKAN: typo fontsize\n",
    "plt.ylabel('Inertia', fontsize=12)\n",
    "plt.xticks(k_range)\n",
    "plt.grid(True)\n",
    "plt.tight_layout()\n",
    "plt.show()\n",
    "\n",
    "# Menyimpan plot ke file\n",
    "plt.savefig('elbow_method.png')\n",
    "print(\"Grafik Elbow Method telah disimpan sebagai 'elbow_method.png'\")\n",
    "plt.close()"
   ]
  },
  {
   "cell_type": "markdown",
   "id": "9295625e",
   "metadata": {},
   "source": []
  },
  {
   "cell_type": "code",
   "execution_count": 109,
   "id": "bfeae7e0",
   "metadata": {},
   "outputs": [],
   "source": [
    "# Menangani outlier sederhana pada Income\n",
    "q_low = df_cluster['Income'].quantile(0.01)\n",
    "q_hi  = df_cluster['Income'].quantile(0.99)\n",
    "df_cluster_cleaned = df_cluster[(df_cluster['Income'] > q_low) & (df_cluster['Income'] < q_hi)].copy()"
   ]
  },
  {
   "cell_type": "code",
   "execution_count": 110,
   "id": "1c2960b5",
   "metadata": {},
   "outputs": [],
   "source": [
    "# Standardisasi Fitur\n",
    "scaler = StandardScaler()\n",
    "scaled_features = scaler.fit_transform(df_cluster_cleaned)\n",
    "df_scaled = pd.DataFrame(scaled_features, columns=df_cluster_cleaned.columns)"
   ]
  },
  {
   "cell_type": "code",
   "execution_count": 111,
   "id": "b7605121",
   "metadata": {},
   "outputs": [],
   "source": [
    "# 3. Menjalankan Model K-Means dengan K=4\n",
    "K = 4\n",
    "kmeans = KMeans(n_clusters=K, random_state=42, n_init='auto')\n",
    "kmeans.fit(df_scaled)\n",
    "\n",
    "# Menambahkan label cluster ke DataFrame yang belum di-scaling (tapi sudah dibersihkan dari outlier)\n",
    "df_cluster_cleaned['Cluster'] = kmeans.labels_\n",
    "\n",
    "# Menambahkan label cluster juga ke DataFrame original (df_final)\n",
    "# Ini sedikit lebih rumit karena kita sudah membuang beberapa baris (outlier)\n",
    "df_final['Cluster'] = pd.Series(kmeans.labels_, index=df_cluster_cleaned.index)"
   ]
  },
  {
   "cell_type": "code",
   "execution_count": 112,
   "id": "9fd80e29",
   "metadata": {},
   "outputs": [
    {
     "name": "stdout",
     "output_type": "stream",
     "text": [
      "Jumlah pelanggan di setiap dari 4 cluster:\n",
      "Cluster\n",
      "0    647\n",
      "1    139\n",
      "2    804\n",
      "3    601\n",
      "Name: count, dtype: int64\n"
     ]
    }
   ],
   "source": [
    "# 4. Menampilkan Hasil\n",
    "print(f\"Jumlah pelanggan di setiap dari {K} cluster:\")\n",
    "print(df_cluster_cleaned['Cluster'].value_counts().sort_index())"
   ]
  },
  {
   "cell_type": "code",
   "execution_count": 113,
   "id": "09e1cf78",
   "metadata": {},
   "outputs": [
    {
     "name": "stdout",
     "output_type": "stream",
     "text": [
      "\n",
      "Contoh data dengan label cluster yang sudah ditambahkan:\n"
     ]
    },
    {
     "data": {
      "application/vnd.microsoft.datawrangler.viewer.v0+json": {
       "columns": [
        {
         "name": "index",
         "rawType": "int64",
         "type": "integer"
        },
        {
         "name": "Year_Birth",
         "rawType": "int64",
         "type": "integer"
        },
        {
         "name": "Education",
         "rawType": "object",
         "type": "string"
        },
        {
         "name": "Marital_Status",
         "rawType": "object",
         "type": "string"
        },
        {
         "name": "Income",
         "rawType": "float64",
         "type": "float"
        },
        {
         "name": "Kidhome",
         "rawType": "int64",
         "type": "integer"
        },
        {
         "name": "Teenhome",
         "rawType": "int64",
         "type": "integer"
        },
        {
         "name": "Dt_Customer",
         "rawType": "object",
         "type": "string"
        },
        {
         "name": "Recency",
         "rawType": "int64",
         "type": "integer"
        },
        {
         "name": "MntCoke",
         "rawType": "int64",
         "type": "integer"
        },
        {
         "name": "MntFruits",
         "rawType": "int64",
         "type": "integer"
        },
        {
         "name": "MntMeatProducts",
         "rawType": "int64",
         "type": "integer"
        },
        {
         "name": "MntFishProducts",
         "rawType": "int64",
         "type": "integer"
        },
        {
         "name": "MntSweetProducts",
         "rawType": "int64",
         "type": "integer"
        },
        {
         "name": "MntGoldProds",
         "rawType": "int64",
         "type": "integer"
        },
        {
         "name": "NumDealsPurchases",
         "rawType": "int64",
         "type": "integer"
        },
        {
         "name": "NumWebPurchases",
         "rawType": "int64",
         "type": "integer"
        },
        {
         "name": "NumCatalogPurchases",
         "rawType": "int64",
         "type": "integer"
        },
        {
         "name": "NumStorePurchases",
         "rawType": "int64",
         "type": "integer"
        },
        {
         "name": "NumWebVisitsMonth",
         "rawType": "int64",
         "type": "integer"
        },
        {
         "name": "AcceptedCmp3",
         "rawType": "int64",
         "type": "integer"
        },
        {
         "name": "AcceptedCmp4",
         "rawType": "int64",
         "type": "integer"
        },
        {
         "name": "AcceptedCmp5",
         "rawType": "int64",
         "type": "integer"
        },
        {
         "name": "AcceptedCmp1",
         "rawType": "int64",
         "type": "integer"
        },
        {
         "name": "AcceptedCmp2",
         "rawType": "int64",
         "type": "integer"
        },
        {
         "name": "Complain",
         "rawType": "int64",
         "type": "integer"
        },
        {
         "name": "Response",
         "rawType": "int64",
         "type": "integer"
        },
        {
         "name": "Age",
         "rawType": "int64",
         "type": "integer"
        },
        {
         "name": "Customer_Tenure",
         "rawType": "int64",
         "type": "integer"
        },
        {
         "name": "Total_Spending",
         "rawType": "int64",
         "type": "integer"
        },
        {
         "name": "Total_Campaigns_Accepted",
         "rawType": "int64",
         "type": "integer"
        },
        {
         "name": "Total_Children",
         "rawType": "int64",
         "type": "integer"
        },
        {
         "name": "Total_Transactions",
         "rawType": "int64",
         "type": "integer"
        },
        {
         "name": "Avg_Transaction_Value",
         "rawType": "float64",
         "type": "float"
        },
        {
         "name": "Conversion_Rate",
         "rawType": "float64",
         "type": "float"
        },
        {
         "name": "Age_Group",
         "rawType": "category",
         "type": "unknown"
        },
        {
         "name": "Cluster",
         "rawType": "float64",
         "type": "float"
        }
       ],
       "ref": "617124d9-c32c-4527-b155-da92272b0d28",
       "rows": [
        [
         "0",
         "1957",
         "Undergraduate",
         "Single",
         "58138000.0",
         "0",
         "0",
         "2012-09-04",
         "58",
         "635000",
         "88000",
         "546000",
         "172000",
         "88000",
         "88000",
         "3",
         "8",
         "10",
         "4",
         "7",
         "0",
         "0",
         "0",
         "0",
         "0",
         "0",
         "1",
         "68",
         "4748",
         "1617000",
         "0",
         "0",
         "25",
         "64679.9974128001",
         "0.1428571224489825",
         "Senior (65+)",
         "2.0"
        ],
        [
         "1",
         "1954",
         "Undergraduate",
         "Single",
         "46344000.0",
         "1",
         "1",
         "2014-03-08",
         "38",
         "11000",
         "1000",
         "6000",
         "2000",
         "1000",
         "6000",
         "2",
         "1",
         "1",
         "2",
         "5",
         "0",
         "0",
         "0",
         "0",
         "0",
         "0",
         "0",
         "71",
         "4198",
         "27000",
         "0",
         "2",
         "6",
         "4499.999250000124",
         "0.0",
         "Senior (65+)",
         "3.0"
        ],
        [
         "2",
         "1965",
         "Undergraduate",
         "In Relationship",
         "71613000.0",
         "0",
         "0",
         "2013-08-21",
         "26",
         "426000",
         "49000",
         "127000",
         "111000",
         "21000",
         "42000",
         "1",
         "8",
         "2",
         "10",
         "4",
         "0",
         "0",
         "0",
         "0",
         "0",
         "0",
         "0",
         "60",
         "4397",
         "776000",
         "0",
         "0",
         "21",
         "36952.37919274384",
         "0.0",
         "Middle-Aged (50-64)",
         "2.0"
        ],
        [
         "3",
         "1984",
         "Undergraduate",
         "In Relationship",
         "26646000.0",
         "1",
         "0",
         "2014-02-10",
         "26",
         "11000",
         "4000",
         "20000",
         "10000",
         "3000",
         "5000",
         "2",
         "2",
         "0",
         "4",
         "6",
         "0",
         "0",
         "0",
         "0",
         "0",
         "0",
         "0",
         "41",
         "4224",
         "53000",
         "0",
         "1",
         "8",
         "6624.999171875104",
         "0.0",
         "Adult (40-49)",
         "0.0"
        ],
        [
         "4",
         "1981",
         "Postgraduate",
         "In Relationship",
         "58293000.0",
         "1",
         "0",
         "2014-01-19",
         "94",
         "173000",
         "43000",
         "118000",
         "46000",
         "27000",
         "15000",
         "5",
         "5",
         "3",
         "6",
         "5",
         "0",
         "0",
         "0",
         "0",
         "0",
         "0",
         "0",
         "44",
         "4246",
         "422000",
         "0",
         "1",
         "19",
         "22210.525146814463",
         "0.0",
         "Adult (40-49)",
         "2.0"
        ]
       ],
       "shape": {
        "columns": 36,
        "rows": 5
       }
      },
      "text/html": [
       "<div>\n",
       "<style scoped>\n",
       "    .dataframe tbody tr th:only-of-type {\n",
       "        vertical-align: middle;\n",
       "    }\n",
       "\n",
       "    .dataframe tbody tr th {\n",
       "        vertical-align: top;\n",
       "    }\n",
       "\n",
       "    .dataframe thead th {\n",
       "        text-align: right;\n",
       "    }\n",
       "</style>\n",
       "<table border=\"1\" class=\"dataframe\">\n",
       "  <thead>\n",
       "    <tr style=\"text-align: right;\">\n",
       "      <th></th>\n",
       "      <th>Year_Birth</th>\n",
       "      <th>Education</th>\n",
       "      <th>Marital_Status</th>\n",
       "      <th>Income</th>\n",
       "      <th>Kidhome</th>\n",
       "      <th>Teenhome</th>\n",
       "      <th>Dt_Customer</th>\n",
       "      <th>Recency</th>\n",
       "      <th>MntCoke</th>\n",
       "      <th>MntFruits</th>\n",
       "      <th>...</th>\n",
       "      <th>Age</th>\n",
       "      <th>Customer_Tenure</th>\n",
       "      <th>Total_Spending</th>\n",
       "      <th>Total_Campaigns_Accepted</th>\n",
       "      <th>Total_Children</th>\n",
       "      <th>Total_Transactions</th>\n",
       "      <th>Avg_Transaction_Value</th>\n",
       "      <th>Conversion_Rate</th>\n",
       "      <th>Age_Group</th>\n",
       "      <th>Cluster</th>\n",
       "    </tr>\n",
       "  </thead>\n",
       "  <tbody>\n",
       "    <tr>\n",
       "      <th>0</th>\n",
       "      <td>1957</td>\n",
       "      <td>Undergraduate</td>\n",
       "      <td>Single</td>\n",
       "      <td>58138000.0</td>\n",
       "      <td>0</td>\n",
       "      <td>0</td>\n",
       "      <td>2012-09-04</td>\n",
       "      <td>58</td>\n",
       "      <td>635000</td>\n",
       "      <td>88000</td>\n",
       "      <td>...</td>\n",
       "      <td>68</td>\n",
       "      <td>4748</td>\n",
       "      <td>1617000</td>\n",
       "      <td>0</td>\n",
       "      <td>0</td>\n",
       "      <td>25</td>\n",
       "      <td>64679.997413</td>\n",
       "      <td>0.142857</td>\n",
       "      <td>Senior (65+)</td>\n",
       "      <td>2.0</td>\n",
       "    </tr>\n",
       "    <tr>\n",
       "      <th>1</th>\n",
       "      <td>1954</td>\n",
       "      <td>Undergraduate</td>\n",
       "      <td>Single</td>\n",
       "      <td>46344000.0</td>\n",
       "      <td>1</td>\n",
       "      <td>1</td>\n",
       "      <td>2014-03-08</td>\n",
       "      <td>38</td>\n",
       "      <td>11000</td>\n",
       "      <td>1000</td>\n",
       "      <td>...</td>\n",
       "      <td>71</td>\n",
       "      <td>4198</td>\n",
       "      <td>27000</td>\n",
       "      <td>0</td>\n",
       "      <td>2</td>\n",
       "      <td>6</td>\n",
       "      <td>4499.999250</td>\n",
       "      <td>0.000000</td>\n",
       "      <td>Senior (65+)</td>\n",
       "      <td>3.0</td>\n",
       "    </tr>\n",
       "    <tr>\n",
       "      <th>2</th>\n",
       "      <td>1965</td>\n",
       "      <td>Undergraduate</td>\n",
       "      <td>In Relationship</td>\n",
       "      <td>71613000.0</td>\n",
       "      <td>0</td>\n",
       "      <td>0</td>\n",
       "      <td>2013-08-21</td>\n",
       "      <td>26</td>\n",
       "      <td>426000</td>\n",
       "      <td>49000</td>\n",
       "      <td>...</td>\n",
       "      <td>60</td>\n",
       "      <td>4397</td>\n",
       "      <td>776000</td>\n",
       "      <td>0</td>\n",
       "      <td>0</td>\n",
       "      <td>21</td>\n",
       "      <td>36952.379193</td>\n",
       "      <td>0.000000</td>\n",
       "      <td>Middle-Aged (50-64)</td>\n",
       "      <td>2.0</td>\n",
       "    </tr>\n",
       "    <tr>\n",
       "      <th>3</th>\n",
       "      <td>1984</td>\n",
       "      <td>Undergraduate</td>\n",
       "      <td>In Relationship</td>\n",
       "      <td>26646000.0</td>\n",
       "      <td>1</td>\n",
       "      <td>0</td>\n",
       "      <td>2014-02-10</td>\n",
       "      <td>26</td>\n",
       "      <td>11000</td>\n",
       "      <td>4000</td>\n",
       "      <td>...</td>\n",
       "      <td>41</td>\n",
       "      <td>4224</td>\n",
       "      <td>53000</td>\n",
       "      <td>0</td>\n",
       "      <td>1</td>\n",
       "      <td>8</td>\n",
       "      <td>6624.999172</td>\n",
       "      <td>0.000000</td>\n",
       "      <td>Adult (40-49)</td>\n",
       "      <td>0.0</td>\n",
       "    </tr>\n",
       "    <tr>\n",
       "      <th>4</th>\n",
       "      <td>1981</td>\n",
       "      <td>Postgraduate</td>\n",
       "      <td>In Relationship</td>\n",
       "      <td>58293000.0</td>\n",
       "      <td>1</td>\n",
       "      <td>0</td>\n",
       "      <td>2014-01-19</td>\n",
       "      <td>94</td>\n",
       "      <td>173000</td>\n",
       "      <td>43000</td>\n",
       "      <td>...</td>\n",
       "      <td>44</td>\n",
       "      <td>4246</td>\n",
       "      <td>422000</td>\n",
       "      <td>0</td>\n",
       "      <td>1</td>\n",
       "      <td>19</td>\n",
       "      <td>22210.525147</td>\n",
       "      <td>0.000000</td>\n",
       "      <td>Adult (40-49)</td>\n",
       "      <td>2.0</td>\n",
       "    </tr>\n",
       "  </tbody>\n",
       "</table>\n",
       "<p>5 rows × 36 columns</p>\n",
       "</div>"
      ],
      "text/plain": [
       "   Year_Birth      Education   Marital_Status      Income  Kidhome  Teenhome  \\\n",
       "0        1957  Undergraduate           Single  58138000.0        0         0   \n",
       "1        1954  Undergraduate           Single  46344000.0        1         1   \n",
       "2        1965  Undergraduate  In Relationship  71613000.0        0         0   \n",
       "3        1984  Undergraduate  In Relationship  26646000.0        1         0   \n",
       "4        1981   Postgraduate  In Relationship  58293000.0        1         0   \n",
       "\n",
       "  Dt_Customer  Recency  MntCoke  MntFruits  ...  Age  Customer_Tenure  \\\n",
       "0  2012-09-04       58   635000      88000  ...   68             4748   \n",
       "1  2014-03-08       38    11000       1000  ...   71             4198   \n",
       "2  2013-08-21       26   426000      49000  ...   60             4397   \n",
       "3  2014-02-10       26    11000       4000  ...   41             4224   \n",
       "4  2014-01-19       94   173000      43000  ...   44             4246   \n",
       "\n",
       "   Total_Spending  Total_Campaigns_Accepted  Total_Children  \\\n",
       "0         1617000                         0               0   \n",
       "1           27000                         0               2   \n",
       "2          776000                         0               0   \n",
       "3           53000                         0               1   \n",
       "4          422000                         0               1   \n",
       "\n",
       "   Total_Transactions  Avg_Transaction_Value  Conversion_Rate  \\\n",
       "0                  25           64679.997413         0.142857   \n",
       "1                   6            4499.999250         0.000000   \n",
       "2                  21           36952.379193         0.000000   \n",
       "3                   8            6624.999172         0.000000   \n",
       "4                  19           22210.525147         0.000000   \n",
       "\n",
       "             Age_Group  Cluster  \n",
       "0         Senior (65+)      2.0  \n",
       "1         Senior (65+)      3.0  \n",
       "2  Middle-Aged (50-64)      2.0  \n",
       "3        Adult (40-49)      0.0  \n",
       "4        Adult (40-49)      2.0  \n",
       "\n",
       "[5 rows x 36 columns]"
      ]
     },
     "execution_count": 113,
     "metadata": {},
     "output_type": "execute_result"
    }
   ],
   "source": [
    "print(\"\\nContoh data dengan label cluster yang sudah ditambahkan:\")\n",
    "# Menampilkan beberapa baris dari df_final yang sudah memiliki label cluster\n",
    "df_final.dropna(subset=['Cluster']).head()"
   ]
  },
  {
   "cell_type": "markdown",
   "id": "1715d924",
   "metadata": {},
   "source": [
    "### Hasil Clustering\n",
    "\n",
    "Ukuran masing-masing cluster adalah sebagai berikut:\n",
    "\n",
    "  * **Cluster 0:** 435 pelanggan\n",
    "  * **Cluster 1:** 649 pelanggan\n",
    "  * **Cluster 2:** 986 pelanggan (Segmen terbesar)\n",
    "  * **Cluster 3:** 124 pelanggan (Segmen terkecil dan paling eksklusif)\n",
    "\n",
    "Sekarang kita memasuki tahap paling penting dalam proyek ini: **menganalisis dan menginterpretasi cluster-cluster ini**. Kita perlu memahami \"kepribadian\" dari setiap segmen untuk menjawab pertanyaan-pertanyaan seperti:\n",
    "\n",
    "  * Siapa pelanggan di Cluster 3 yang jumlahnya paling sedikit itu? Apakah mereka pelanggan VIP?\n",
    "  * Apa yang membedakan Cluster 2 yang paling gemuk dengan cluster lainnya?\n",
    "  * Segmen mana yang paling potensial untuk kita targetkan pada kampanye berikutnya?\n",
    "\n"
   ]
  },
  {
   "cell_type": "code",
   "execution_count": 114,
   "id": "c0a3a1b7",
   "metadata": {},
   "outputs": [],
   "source": [
    "# Analisis dan Interpretasi Cluster\n",
    "# Kolom yang akan dianalisis\n",
    "analysis_cols = [\n",
    "    'Age', 'Income', 'Total_Spending', 'Recency', 'Total_Transactions',\n",
    "    'Conversion_Rate', 'Total_Children', 'Total_Campaigns_Accepted'\n",
    "]\n"
   ]
  },
  {
   "cell_type": "code",
   "execution_count": 115,
   "id": "a94d94ae",
   "metadata": {},
   "outputs": [
    {
     "name": "stdout",
     "output_type": "stream",
     "text": [
      "Tabel Ringkasan Karakteristik per Cluster (Rata-rata):\n",
      "               Age        Income  Total_Spending    Recency  Total_Transactions  Conversion_Rate  Total_Children  Total_Campaigns_Accepted\n",
      "Cluster                                                                                                                                   \n",
      "1.0      54.410072  8.051173e+07    1.651137e+06  41.151079           20.194245         0.446251        0.115108                  1.877698\n",
      "2.0      58.797264  6.785831e+07    1.109190e+06  51.441542           21.840796         0.017289        0.619403                  0.319652\n",
      "3.0      62.156406  4.565146e+07    2.105707e+05  49.347754           11.545757         0.010873        1.723794                  0.101498\n",
      "0.0      47.817620  3.128767e+07    1.164884e+05  48.004637            8.143740         0.015657        0.846986                  0.085008\n"
     ]
    }
   ],
   "source": [
    "# Menghitung rata-rata per cluster\n",
    "cluster_summary = df_final.groupby('Cluster')[analysis_cols].mean().sort_values(by='Income', ascending=False)\n",
    "\n",
    "# Menampilkan tabel ringkasan\n",
    "print(\"Tabel Ringkasan Karakteristik per Cluster (Rata-rata):\")\n",
    "print(cluster_summary.to_string())"
   ]
  },
  {
   "cell_type": "markdown",
   "id": "f44bb68f",
   "metadata": {},
   "source": [
    "### Rekomendasi Strategi Marketing)\n",
    "\n",
    "Berikut adalah rekomendasi strategi yang disesuaikan untuk setiap persona pelanggan yang telah kita identifikasi dari hasil Anda:\n",
    "\n",
    "---\n",
    "\n",
    "### Strategi untuk Cluster 1: \"Para Juara\" (VIP)\n",
    "* **Persona:** Pelanggan paling berharga dengan pendapatan, pengeluaran, dan tingkat konversi tertinggi.\n",
    "* **Tujuan:** **Retensi & Apresiasi**. Jaga agar mereka tetap loyal dan merasa dihargai. Jangan berisiko kehilangan mereka.\n",
    "\n",
    "**Rekomendasi Aksi:**\n",
    "1.  **Program Loyalitas Eksklusif:** Berikan mereka akses *early bird* ke produk baru, undangan ke acara khusus, atau layanan pelanggan prioritas.\n",
    "2.  **Penawaran Premium, Bukan Diskon:** Hindari memberi mereka diskon umum. Sebaliknya, tawarkan *bundling* produk premium atau hadiah eksklusif saat mereka mencapai ambang batas belanja tertentu.\n",
    "3.  **Personalisasi Tingkat Tinggi:** Gunakan data histori pembelian mereka untuk memberikan rekomendasi produk yang sangat relevan dan personal. Sapa mereka dengan nama dalam email marketing.\n",
    "\n",
    "---\n",
    "\n",
    "### Strategi untuk Cluster 2: \"Si Makmur\"\n",
    "* **Persona:** Punya daya beli tinggi, tapi kurang aktif dan jarang konversi. Potensi yang belum tergali.\n",
    "* **Tujuan:** **Aktivasi & Peningkatan Engagement**. Pancing mereka untuk bertransaksi lebih sering dan efisien.\n",
    "\n",
    "**Rekomendasi Aksi:**\n",
    "1.  **Kampanye \"Pamer Kualitas\":** Targetkan mereka dengan iklan yang menonjolkan kualitas, keunikan, dan manfaat produk-produk premium Anda, bukan harganya.\n",
    "2.  **Katalog atau Lookbook Fisik:** Mengingat pengeluaran mereka yang solid, mengirimkan katalog fisik berkualitas tinggi ke alamat mereka bisa memberikan sentuhan personal dan mendorong penelusuran produk.\n",
    "3.  **Tawarkan *Value-Added Services*:** Alih-alih diskon, tawarkan layanan tambahan seperti gratis ongkir ekspres, garansi perpanjangan, atau konsultasi produk gratis untuk mendorong konversi.\n",
    "\n",
    "---\n",
    "\n",
    "### Strategi untuk Cluster 3: \"Keluarga Senior\"\n",
    "* **Persona:** Usia lebih matang, sensitif terhadap harga, dan berorientasi pada keluarga.\n",
    "* **Tujuan:** **Peningkatan Nilai Transaksi & Cross-Selling**. Dorong mereka untuk membeli lebih banyak produk yang relevan dalam satu kali transaksi.\n",
    "\n",
    "**Rekomendasi Aksi:**\n",
    "1.  **Promosi Berbasis \"Nilai\":** Tawarkan promosi seperti \"Beli 2 Gratis 1\", diskon untuk pembelian dalam jumlah besar, atau paket *bundling* keluarga.\n",
    "2.  **Cross-Sell Produk Relevan:** Jika mereka sering membeli produk A, tawarkan produk pelengkap B dengan diskon khusus. Contoh: \"Lengkapi koleksi dapur Anda dengan diskon 20% untuk panci set\".\n",
    "3.  **Komunikasi di Channel Tradisional:** Selain email, pertimbangkan untuk menggunakan channel seperti SMS atau bahkan telemarketing yang mungkin lebih efektif untuk demografi ini.\n",
    "\n",
    "---\n",
    "\n",
    "### Strategi untuk Cluster 0: \"Anak Muda Hemat\"\n",
    "* **Persona:** Pelanggan di tahap awal, daya beli rendah, namun merupakan calon pelanggan masa depan.\n",
    "* **Tujuan:** **Nurturing & Pembangunan Brand Loyalty**. Bangun hubungan baik dan tanamkan citra merek Anda di benak mereka.\n",
    "\n",
    "**Rekomendasi Aksi:**\n",
    "1.  **Penawaran *Entry-Level*:** Buat penawaran dengan harga terjangkau atau produk dalam ukuran kecil (*sachet-size*) untuk menghilangkan hambatan mencoba produk Anda.\n",
    "2.  **Kampanye Media Sosial & Konten:** Libatkan mereka melalui konten yang menarik di media sosial (Instagram, TikTok). Fokus pada pembangunan komunitas dan *brand awareness*, bukan *hard-selling*.\n",
    "3.  **Program *Referral*:** Ajak mereka untuk merekomendasikan teman-teman mereka dengan imbalan diskon kecil atau poin. Ini efektif untuk segmen yang sensitif harga dan terhubung secara digital.\n",
    "\n",
    "### Ringkasan Eksekutif\n",
    "\n",
    "Proyek ini telah berhasil mengubah data mentah pelanggan menjadi **empat segmen strategis** yang dapat ditindaklanjuti. Dengan memahami persona unik dari setiap segmen—mulai dari **\"Para Juara\"** yang harus dipertahankan hingga **\"Anak Muda Hemat\"** yang perlu dibina—perusahaan kini dapat merancang kampanye marketing yang jauh lebih efisien, personal, dan memiliki ROI yang lebih tinggi. Implementasi strategi yang ditargetkan per segmen ini akan menjadi kunci untuk meningkatkan performa marketing dan pertumbuhan bisnis ke depan."
   ]
  },
  {
   "cell_type": "code",
   "execution_count": 118,
   "id": "630341b8",
   "metadata": {},
   "outputs": [
    {
     "name": "stdout",
     "output_type": "stream",
     "text": [
      "Simulasi Potensi Kenaikan Pendapatan per Cluster:\n",
      "         Jumlah_Pelanggan  Total_Pendapatan_Saat_Ini  Asumsi_Lift  \\\n",
      "Cluster                                                             \n",
      "0.00                  647                   75368000         0.05   \n",
      "1.00                  139                  229508000         0.15   \n",
      "2.00                  804                  891789000         0.10   \n",
      "3.00                  601                  126553000         0.05   \n",
      "\n",
      "         Proyeksi_Pendapatan_Baru  Potensi_Kenaikan_Pendapatan  \n",
      "Cluster                                                         \n",
      "0.00                79,136,400.00                 3,768,400.00  \n",
      "1.00               263,934,200.00                34,426,200.00  \n",
      "2.00               980,967,900.00                89,178,900.00  \n",
      "3.00               132,880,650.00                 6,327,650.00  \n",
      "\n",
      "--- Ringkasan Simulasi ---\n",
      "Total Pendapatan Baseline: Rp 1,323,218,000\n",
      "Total Potensi Kenaikan Pendapatan: Rp 133,701,150\n",
      "Estimasi Persentase Kenaikan Total: 10.10%\n"
     ]
    }
   ],
   "source": [
    "# Simulasi Pendapatan\n",
    "# Baseline: Menghitung jumlah pelanggan dan total pendapatan saat ini per cluster\n",
    "baseline = df_final.groupby('Cluster').agg(\n",
    "    Jumlah_Pelanggan=('Cluster', 'count'),\n",
    "    Total_Pendapatan_Saat_Ini=('Total_Spending', 'sum')\n",
    ")\n",
    "\n",
    "# Asumsi Lift (kenaikan performa)\n",
    "lift_assumptions = {\n",
    "    0.0: 0.05,  # Asumsi 5% lift untuk Cluster 0 (Makmur Pasif versi saya)\n",
    "    1.0: 0.15,  # Asumsi 15% lift untuk Cluster 1 (Keluarga Mapan versi saya)\n",
    "    2.0: 0.10,  # Asumsi 10% lift untuk Cluster 2 (Hemat versi saya)\n",
    "    3.0: 0.05   # Asumsi 5% lift untuk Cluster 3 (Juara versi saya)\n",
    "}\n",
    "\n",
    "# Membuat dataframe simulasi\n",
    "simulation_df = baseline.copy()\n",
    "simulation_df['Asumsi_Lift'] = simulation_df.index.map(lift_assumptions)\n",
    "simulation_df['Proyeksi_Pendapatan_Baru'] = simulation_df['Total_Pendapatan_Saat_Ini'] * (1 + simulation_df['Asumsi_Lift'])\n",
    "simulation_df['Potensi_Kenaikan_Pendapatan'] = simulation_df['Proyeksi_Pendapatan_Baru'] - simulation_df['Total_Pendapatan_Saat_Ini']\n",
    "\n",
    "# Menghitung Total\n",
    "total_uplift = simulation_df['Potensi_Kenaikan_Pendapatan'].sum()\n",
    "total_baseline_revenue = simulation_df['Total_Pendapatan_Saat_Ini'].sum()\n",
    "percentage_increase = (total_uplift / total_baseline_revenue) * 100\n",
    "\n",
    "# Menampilkan hasil\n",
    "pd.options.display.float_format = '{:,.2f}'.format\n",
    "print(\"Simulasi Potensi Kenaikan Pendapatan per Cluster:\")\n",
    "print(simulation_df)\n",
    "\n",
    "print(\"\\n--- Ringkasan Simulasi ---\")\n",
    "print(f\"Total Pendapatan Baseline: Rp {total_baseline_revenue:,.0f}\")\n",
    "print(f\"Total Potensi Kenaikan Pendapatan: Rp {total_uplift:,.0f}\")\n",
    "print(f\"Estimasi Persentase Kenaikan Total: {percentage_increase:.2f}%\")"
   ]
  },
  {
   "cell_type": "markdown",
   "id": "87277dc1",
   "metadata": {},
   "source": []
  }
 ],
 "metadata": {
  "kernelspec": {
   "display_name": "Python 3",
   "language": "python",
   "name": "python3"
  },
  "language_info": {
   "codemirror_mode": {
    "name": "ipython",
    "version": 3
   },
   "file_extension": ".py",
   "mimetype": "text/x-python",
   "name": "python",
   "nbconvert_exporter": "python",
   "pygments_lexer": "ipython3",
   "version": "3.13.5"
  }
 },
 "nbformat": 4,
 "nbformat_minor": 5
}
